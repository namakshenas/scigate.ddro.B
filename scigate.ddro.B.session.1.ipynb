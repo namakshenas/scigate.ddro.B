{
 "cells": [
  {
   "cell_type": "markdown",
   "id": "f8926a8c-8157-44b0-bb6d-4bfa2ad902a3",
   "metadata": {},
   "source": [
    "### Python Data Structures\n",
    "##### list\n",
    "##### Dictionary\n",
    "##### Tuple\n",
    "##### Set"
   ]
  },
  {
   "cell_type": "markdown",
   "id": "ef445746-7051-4b9d-b7c9-bf3b2f188f9f",
   "metadata": {},
   "source": [
    "### Lists"
   ]
  },
  {
   "cell_type": "code",
   "execution_count": 1,
   "id": "87ca488d-987e-4c27-b501-002449b501ff",
   "metadata": {},
   "outputs": [],
   "source": [
    "my_list = [1,2,3,4,5]"
   ]
  },
  {
   "cell_type": "code",
   "execution_count": 2,
   "id": "14ed3cc5-fa70-4c2b-baa1-def662150d44",
   "metadata": {},
   "outputs": [
    {
     "name": "stdout",
     "output_type": "stream",
     "text": [
      "[1, 2, 3, 4, 5]\n"
     ]
    }
   ],
   "source": [
    "print(my_list)"
   ]
  },
  {
   "cell_type": "code",
   "execution_count": 3,
   "id": "a43b0f9e-2424-4dd3-aef1-6a7bf48cb834",
   "metadata": {},
   "outputs": [],
   "source": [
    "my_list = [1,2,3,'abc',3.123,23432847234]"
   ]
  },
  {
   "cell_type": "code",
   "execution_count": 4,
   "id": "84cd9995-8a49-405c-bbdc-c3f54db9e872",
   "metadata": {},
   "outputs": [
    {
     "name": "stdout",
     "output_type": "stream",
     "text": [
      "[1, 2, 3, 'abc', 3.123, 23432847234]\n"
     ]
    }
   ],
   "source": [
    "print(my_list)"
   ]
  },
  {
   "cell_type": "code",
   "execution_count": 5,
   "id": "70aefb01-3567-47c0-8ee8-a1be25239c6d",
   "metadata": {},
   "outputs": [
    {
     "name": "stdout",
     "output_type": "stream",
     "text": [
      "[1, 2, 3, 4, 5, [6, 7]]\n"
     ]
    }
   ],
   "source": [
    "my_list = [1,2,3,4,5]\n",
    "my_list.append([6,7])\n",
    "print(my_list)"
   ]
  },
  {
   "cell_type": "code",
   "execution_count": 6,
   "id": "b86b6706-2d49-4062-85ae-cba5ce4e2fa4",
   "metadata": {},
   "outputs": [
    {
     "name": "stdout",
     "output_type": "stream",
     "text": [
      "[1, 2, 3, 4, 5, 6, 7]\n"
     ]
    }
   ],
   "source": [
    "my_list = [1,2,3,4,5]\n",
    "my_list.extend([6,7])\n",
    "print(my_list)"
   ]
  },
  {
   "cell_type": "code",
   "execution_count": 9,
   "id": "1954efc2-e7e9-4d6f-b896-30aa00449fba",
   "metadata": {},
   "outputs": [],
   "source": [
    "my_list2 = [32,45,67,89,12]\n",
    "my_list2.insert(1,234324)"
   ]
  },
  {
   "cell_type": "code",
   "execution_count": 10,
   "id": "dacbf4ae-852b-4875-9a4a-c1c522707220",
   "metadata": {},
   "outputs": [
    {
     "name": "stdout",
     "output_type": "stream",
     "text": [
      "[32, 234324, 45, 67, 89, 12]\n"
     ]
    }
   ],
   "source": [
    "print(my_list2)"
   ]
  },
  {
   "cell_type": "code",
   "execution_count": 11,
   "id": "f150813c-d087-4a3c-b9cc-41e95c609cdc",
   "metadata": {},
   "outputs": [],
   "source": [
    "my_list2.remove(234324)"
   ]
  },
  {
   "cell_type": "code",
   "execution_count": 12,
   "id": "7d355829-5db7-4d48-ae17-e02e33a144ae",
   "metadata": {},
   "outputs": [
    {
     "name": "stdout",
     "output_type": "stream",
     "text": [
      "[32, 45, 67, 89, 12]\n"
     ]
    }
   ],
   "source": [
    "print(my_list2)"
   ]
  },
  {
   "cell_type": "code",
   "execution_count": 14,
   "id": "11b50670-dcdc-4ac1-a35e-967d093ff33a",
   "metadata": {},
   "outputs": [],
   "source": [
    "my_list = [12,14,16,18,20,22]"
   ]
  },
  {
   "cell_type": "code",
   "execution_count": 17,
   "id": "c808c4cb-ec02-4afb-b0a9-a083d8e380b6",
   "metadata": {},
   "outputs": [
    {
     "data": {
      "text/plain": [
       "[16, 18, 20]"
      ]
     },
     "execution_count": 17,
     "metadata": {},
     "output_type": "execute_result"
    }
   ],
   "source": [
    "my_list[2:5]"
   ]
  },
  {
   "cell_type": "markdown",
   "id": "1e7ddce5-5522-4c51-9542-3f424a058ba0",
   "metadata": {},
   "source": [
    "### slicing"
   ]
  },
  {
   "cell_type": "markdown",
   "id": "83eba812-20d0-4b44-8f6d-c1bf9a8f2e59",
   "metadata": {},
   "source": [
    "my_list[start : end+1 : step]"
   ]
  },
  {
   "cell_type": "code",
   "execution_count": 24,
   "id": "637d0c2a-310b-4f5e-b189-26cc4e40ec66",
   "metadata": {},
   "outputs": [
    {
     "data": {
      "text/plain": [
       "[22, 20, 18, 16, 14, 12]"
      ]
     },
     "execution_count": 24,
     "metadata": {},
     "output_type": "execute_result"
    }
   ],
   "source": [
    "my_list[::-1]"
   ]
  },
  {
   "cell_type": "code",
   "execution_count": 25,
   "id": "abd8116a-c7e4-4dd7-8c1a-cf230bf4e8f0",
   "metadata": {},
   "outputs": [
    {
     "data": {
      "text/plain": [
       "6"
      ]
     },
     "execution_count": 25,
     "metadata": {},
     "output_type": "execute_result"
    }
   ],
   "source": [
    "len(my_list)"
   ]
  },
  {
   "cell_type": "code",
   "execution_count": 26,
   "id": "0977a2cc-b2b7-41ca-95f3-90d3ad961382",
   "metadata": {},
   "outputs": [
    {
     "data": {
      "text/plain": [
       "2"
      ]
     },
     "execution_count": 26,
     "metadata": {},
     "output_type": "execute_result"
    }
   ],
   "source": [
    "my_list.index(16)"
   ]
  },
  {
   "cell_type": "code",
   "execution_count": 28,
   "id": "4c131ccf-2199-45b5-8c9f-be2f40d7d6ec",
   "metadata": {},
   "outputs": [
    {
     "data": {
      "text/plain": [
       "[2, 5, 12, 33, 45]"
      ]
     },
     "execution_count": 28,
     "metadata": {},
     "output_type": "execute_result"
    }
   ],
   "source": [
    "my_list = [33,2,12,45,5]\n",
    "x = sorted(my_list)"
   ]
  },
  {
   "cell_type": "code",
   "execution_count": 29,
   "id": "9df4a1de-96f6-4370-82f8-00b8883fdc80",
   "metadata": {},
   "outputs": [],
   "source": [
    "my_list.sort()"
   ]
  },
  {
   "cell_type": "code",
   "execution_count": 30,
   "id": "eb94da93-9850-45a1-8d5f-b6cdad3bc06f",
   "metadata": {},
   "outputs": [
    {
     "data": {
      "text/plain": [
       "[2, 5, 12, 33, 45]"
      ]
     },
     "execution_count": 30,
     "metadata": {},
     "output_type": "execute_result"
    }
   ],
   "source": [
    "my_list"
   ]
  },
  {
   "cell_type": "markdown",
   "id": "71123c75-f446-4951-b0ef-69abf13831c5",
   "metadata": {},
   "source": [
    "### Dictionary"
   ]
  },
  {
   "cell_type": "code",
   "execution_count": 31,
   "id": "376a4aa8-8bb5-4faf-bc97-c93916c3b77f",
   "metadata": {},
   "outputs": [],
   "source": [
    "my_dict = {'Tehran':32, 'Yazd':25, 'Arak':15}"
   ]
  },
  {
   "cell_type": "code",
   "execution_count": 32,
   "id": "687b646b-4d3a-4e08-8eaf-f3ad48f29b6d",
   "metadata": {},
   "outputs": [
    {
     "data": {
      "text/plain": [
       "32"
      ]
     },
     "execution_count": 32,
     "metadata": {},
     "output_type": "execute_result"
    }
   ],
   "source": [
    "my_dict['Tehran']"
   ]
  },
  {
   "cell_type": "code",
   "execution_count": 35,
   "id": "15325d8f-9fb2-4447-afa6-6c20f2eca7a1",
   "metadata": {},
   "outputs": [
    {
     "data": {
      "text/plain": [
       "['Tehran', 'Yazd', 'Arak']"
      ]
     },
     "execution_count": 35,
     "metadata": {},
     "output_type": "execute_result"
    }
   ],
   "source": [
    "list(my_dict.keys())"
   ]
  },
  {
   "cell_type": "code",
   "execution_count": 37,
   "id": "6c770ac0-2de5-4d2a-89e4-f6fbc2c89f55",
   "metadata": {},
   "outputs": [
    {
     "data": {
      "text/plain": [
       "[32, 25, 15]"
      ]
     },
     "execution_count": 37,
     "metadata": {},
     "output_type": "execute_result"
    }
   ],
   "source": [
    "list(my_dict.values())"
   ]
  },
  {
   "cell_type": "code",
   "execution_count": 38,
   "id": "70f60372-1306-4b3a-8d24-f7b82992a308",
   "metadata": {},
   "outputs": [
    {
     "data": {
      "text/plain": [
       "[('Tehran', 32), ('Yazd', 25), ('Arak', 15)]"
      ]
     },
     "execution_count": 38,
     "metadata": {},
     "output_type": "execute_result"
    }
   ],
   "source": [
    "list(my_dict.items())"
   ]
  },
  {
   "cell_type": "markdown",
   "id": "3e3431a8-cc79-43a1-ad63-74b80c9689dd",
   "metadata": {},
   "source": [
    "### Tuple"
   ]
  },
  {
   "cell_type": "code",
   "execution_count": 39,
   "id": "5d5d9de3-5b9d-459f-9302-9f25f1632db9",
   "metadata": {},
   "outputs": [],
   "source": [
    "my_tuple = (1,2,3)"
   ]
  },
  {
   "cell_type": "code",
   "execution_count": 40,
   "id": "26ca8e5a-9b6b-4e19-972c-42fcb3c40fc6",
   "metadata": {},
   "outputs": [
    {
     "name": "stdout",
     "output_type": "stream",
     "text": [
      "(1, 2, 3)\n"
     ]
    }
   ],
   "source": [
    "print(my_tuple)"
   ]
  },
  {
   "cell_type": "code",
   "execution_count": 43,
   "id": "d20f762d-0236-472d-8561-36e9bd15b169",
   "metadata": {},
   "outputs": [
    {
     "name": "stdout",
     "output_type": "stream",
     "text": [
      "[2, 5, 50, 33, 45]\n"
     ]
    }
   ],
   "source": [
    "print(my_list)"
   ]
  },
  {
   "cell_type": "code",
   "execution_count": 42,
   "id": "be8e5b93-804b-479d-9045-52a68929eccc",
   "metadata": {},
   "outputs": [],
   "source": [
    "my_list[2] = 50"
   ]
  },
  {
   "cell_type": "code",
   "execution_count": 44,
   "id": "1ffdc74e-4817-45c3-bbd6-e9c862b0dab6",
   "metadata": {},
   "outputs": [
    {
     "ename": "TypeError",
     "evalue": "'tuple' object does not support item assignment",
     "output_type": "error",
     "traceback": [
      "\u001b[1;31m---------------------------------------------------------------------------\u001b[0m",
      "\u001b[1;31mTypeError\u001b[0m                                 Traceback (most recent call last)",
      "\u001b[1;32m~\\AppData\\Local\\Temp\\ipykernel_9168\\3307910642.py\u001b[0m in \u001b[0;36m<module>\u001b[1;34m\u001b[0m\n\u001b[1;32m----> 1\u001b[1;33m \u001b[0mmy_tuple\u001b[0m\u001b[1;33m[\u001b[0m\u001b[1;36m1\u001b[0m\u001b[1;33m]\u001b[0m \u001b[1;33m=\u001b[0m \u001b[1;36m50\u001b[0m\u001b[1;33m\u001b[0m\u001b[1;33m\u001b[0m\u001b[0m\n\u001b[0m",
      "\u001b[1;31mTypeError\u001b[0m: 'tuple' object does not support item assignment"
     ]
    }
   ],
   "source": [
    "my_tuple[1] = 50"
   ]
  },
  {
   "cell_type": "code",
   "execution_count": 45,
   "id": "fc1362f2-1b2b-4736-9eff-322c2a2af961",
   "metadata": {},
   "outputs": [],
   "source": [
    "my_tuple = my_tuple + (4,5,6)"
   ]
  },
  {
   "cell_type": "code",
   "execution_count": 46,
   "id": "ced49a16-4317-4217-bec0-5380f9a9a49f",
   "metadata": {},
   "outputs": [
    {
     "name": "stdout",
     "output_type": "stream",
     "text": [
      "(1, 2, 3, 4, 5, 6)\n"
     ]
    }
   ],
   "source": [
    "print(my_tuple)"
   ]
  },
  {
   "cell_type": "markdown",
   "id": "9700c5f3-39d9-4eb2-a9e0-aa50716212e9",
   "metadata": {},
   "source": [
    "### Sets"
   ]
  },
  {
   "cell_type": "code",
   "execution_count": 47,
   "id": "02cae08b-86bf-48ff-b4a8-5b13d690898c",
   "metadata": {},
   "outputs": [],
   "source": [
    "my_set = {1,2,3,4,5,5,5}"
   ]
  },
  {
   "cell_type": "code",
   "execution_count": 48,
   "id": "a25bc6c4-21d5-48e4-9535-13ee27e7a76f",
   "metadata": {},
   "outputs": [
    {
     "name": "stdout",
     "output_type": "stream",
     "text": [
      "{1, 2, 3, 4, 5}\n"
     ]
    }
   ],
   "source": [
    "print(my_set)"
   ]
  },
  {
   "cell_type": "code",
   "execution_count": 49,
   "id": "2053f0a6-4d77-4c77-b634-33c4974c09a2",
   "metadata": {},
   "outputs": [],
   "source": [
    "my_set.add(0)"
   ]
  },
  {
   "cell_type": "code",
   "execution_count": 50,
   "id": "f0ee96d4-f641-490f-a672-0c3c5312bca9",
   "metadata": {},
   "outputs": [
    {
     "name": "stdout",
     "output_type": "stream",
     "text": [
      "{0, 1, 2, 3, 4, 5}\n"
     ]
    }
   ],
   "source": [
    "print(my_set)"
   ]
  },
  {
   "cell_type": "code",
   "execution_count": 52,
   "id": "207525aa-19a1-4f52-b50f-a3a38efc67d7",
   "metadata": {},
   "outputs": [],
   "source": [
    "my_set1 = {1,2,3,4}\n",
    "my_set2 = {3,4,5,6}"
   ]
  },
  {
   "cell_type": "code",
   "execution_count": 53,
   "id": "dcf0f112-8588-4ee0-8b7d-cdeab325ec0f",
   "metadata": {},
   "outputs": [
    {
     "data": {
      "text/plain": [
       "{1, 2, 3, 4, 5, 6}"
      ]
     },
     "execution_count": 53,
     "metadata": {},
     "output_type": "execute_result"
    }
   ],
   "source": [
    "my_set1.union(my_set2)"
   ]
  },
  {
   "cell_type": "code",
   "execution_count": 54,
   "id": "3dcf5fe7-3a85-4879-b49f-62b36c524f84",
   "metadata": {},
   "outputs": [
    {
     "data": {
      "text/plain": [
       "{3, 4}"
      ]
     },
     "execution_count": 54,
     "metadata": {},
     "output_type": "execute_result"
    }
   ],
   "source": [
    "my_set1.intersection(my_set2)"
   ]
  },
  {
   "cell_type": "code",
   "execution_count": 55,
   "id": "f384e821-3554-424b-a725-2d8709273f3d",
   "metadata": {},
   "outputs": [
    {
     "data": {
      "text/plain": [
       "{1, 2}"
      ]
     },
     "execution_count": 55,
     "metadata": {},
     "output_type": "execute_result"
    }
   ],
   "source": [
    "my_set1.difference(my_set2)"
   ]
  },
  {
   "cell_type": "markdown",
   "id": "13652b5c-1d22-4048-8aed-39b5aef55770",
   "metadata": {},
   "source": [
    "### Loops, Logics, and Functions"
   ]
  },
  {
   "cell_type": "code",
   "execution_count": 57,
   "id": "c2e7f89b-b687-4bbf-a1d7-0b2093397979",
   "metadata": {},
   "outputs": [
    {
     "data": {
      "text/plain": [
       "[2, 5, 8, 11, 14, 17]"
      ]
     },
     "execution_count": 57,
     "metadata": {},
     "output_type": "execute_result"
    }
   ],
   "source": [
    "list(range(2,20,3))"
   ]
  },
  {
   "cell_type": "code",
   "execution_count": 58,
   "id": "28c5863e-6530-4e9c-8903-751b072f0969",
   "metadata": {},
   "outputs": [
    {
     "data": {
      "text/plain": [
       "[0, 1, 2, 3, 4, 5]"
      ]
     },
     "execution_count": 58,
     "metadata": {},
     "output_type": "execute_result"
    }
   ],
   "source": [
    "list(range(6))"
   ]
  },
  {
   "cell_type": "code",
   "execution_count": 62,
   "id": "dd6f3c28-c4bb-41e9-b633-81e62dff676f",
   "metadata": {},
   "outputs": [
    {
     "name": "stdout",
     "output_type": "stream",
     "text": [
      "the number is  0\n",
      "the number is  1\n",
      "the number is  2\n",
      "the number is  3\n",
      "the number is  4\n",
      "the number is  5\n",
      "the number is  6\n",
      "the number is  7\n",
      "the number is  8\n",
      "the number is  9\n"
     ]
    }
   ],
   "source": [
    "for i in range(10):\n",
    "    print(\"the number is \",i)"
   ]
  },
  {
   "cell_type": "code",
   "execution_count": 63,
   "id": "e7c345f5-3bb8-4607-a067-954fff2ab1c5",
   "metadata": {},
   "outputs": [],
   "source": [
    "num = -3.4"
   ]
  },
  {
   "cell_type": "code",
   "execution_count": 65,
   "id": "9def9f51-f875-466e-a564-341a5541e055",
   "metadata": {},
   "outputs": [
    {
     "name": "stdout",
     "output_type": "stream",
     "text": [
      "negative number\n"
     ]
    }
   ],
   "source": [
    "if num > 0:\n",
    "    print(\"positive number\")\n",
    "elif num == 0:\n",
    "    print(\"zero\")\n",
    "else:\n",
    "    print(\"negative number\")"
   ]
  },
  {
   "cell_type": "code",
   "execution_count": 66,
   "id": "0149b6b9-3bc5-4234-8d4b-da4818b91116",
   "metadata": {},
   "outputs": [],
   "source": [
    "city_demand = {'tehran':90, 'esfahan':55, 'kerman':77}"
   ]
  },
  {
   "cell_type": "code",
   "execution_count": 68,
   "id": "4e976ec2-7524-4f8b-bfce-40c55446a12f",
   "metadata": {},
   "outputs": [
    {
     "name": "stdout",
     "output_type": "stream",
     "text": [
      "demand of  tehran  is  90\n"
     ]
    }
   ],
   "source": [
    "# user input\n",
    "city_name = 'tehran'\n",
    "\n",
    "# evaluate\n",
    "for c in city_demand:\n",
    "    if city_name == c:\n",
    "        print(\"demand of \",c,\" is \",city_demand[c])\n",
    "        break"
   ]
  },
  {
   "cell_type": "code",
   "execution_count": 69,
   "id": "47707015-d904-45d0-963f-b70a7239ff33",
   "metadata": {},
   "outputs": [],
   "source": [
    "def demand_fun(city_name):\n",
    "    for c in city_demand:\n",
    "        if city_name == c:\n",
    "            break\n",
    "    return city_demand[c]"
   ]
  },
  {
   "cell_type": "code",
   "execution_count": 71,
   "id": "162c7b6f-1f8f-4f38-85fe-78a0fab0fd60",
   "metadata": {},
   "outputs": [
    {
     "data": {
      "text/plain": [
       "90"
      ]
     },
     "execution_count": 71,
     "metadata": {},
     "output_type": "execute_result"
    }
   ],
   "source": [
    "demand_fun('tehran')"
   ]
  },
  {
   "cell_type": "markdown",
   "id": "a7b84e93-8415-4662-a1c2-c582bbe56a70",
   "metadata": {},
   "source": [
    "### how to import libraries?"
   ]
  },
  {
   "cell_type": "code",
   "execution_count": 75,
   "id": "38a5d7f8-c0d8-4837-8171-bd4e85b21075",
   "metadata": {},
   "outputs": [],
   "source": [
    "from math import pi,sqrt"
   ]
  },
  {
   "cell_type": "code",
   "execution_count": 77,
   "id": "a2fdd542-c4aa-4486-aa8c-2ea559c584e5",
   "metadata": {},
   "outputs": [],
   "source": [
    "import math as mp"
   ]
  },
  {
   "cell_type": "code",
   "execution_count": 78,
   "id": "d693e829-bbd4-4b9c-9717-43f161a8b53f",
   "metadata": {},
   "outputs": [
    {
     "data": {
      "text/plain": [
       "3.141592653589793"
      ]
     },
     "execution_count": 78,
     "metadata": {},
     "output_type": "execute_result"
    }
   ],
   "source": [
    "mp.pi"
   ]
  },
  {
   "cell_type": "code",
   "execution_count": 79,
   "id": "0ecd38a2-8845-45c8-be75-ff9651c2d705",
   "metadata": {},
   "outputs": [],
   "source": [
    "from math import sqrt as sq"
   ]
  },
  {
   "cell_type": "code",
   "execution_count": 80,
   "id": "e8383f8a-68e6-409d-aee6-f140e0cdbc54",
   "metadata": {},
   "outputs": [
    {
     "data": {
      "text/plain": [
       "1.7320508075688772"
      ]
     },
     "execution_count": 80,
     "metadata": {},
     "output_type": "execute_result"
    }
   ],
   "source": [
    "sq(3)"
   ]
  },
  {
   "cell_type": "markdown",
   "id": "e53543f5-5060-4ac4-b095-ee9b7061193f",
   "metadata": {},
   "source": [
    "### NUMPY"
   ]
  },
  {
   "cell_type": "code",
   "execution_count": 81,
   "id": "278bde2d-f223-405c-a34d-315688b39e0a",
   "metadata": {},
   "outputs": [],
   "source": [
    "import numpy as np"
   ]
  },
  {
   "cell_type": "code",
   "execution_count": 82,
   "id": "4f001b09-f8a3-454a-a333-25ebd939b027",
   "metadata": {},
   "outputs": [],
   "source": [
    "my_list = [1,2,3,4]"
   ]
  },
  {
   "cell_type": "code",
   "execution_count": 83,
   "id": "e51f9c56-f02e-4d46-9e81-e1101c33c0e1",
   "metadata": {},
   "outputs": [],
   "source": [
    "my_array = np.array(my_list)"
   ]
  },
  {
   "cell_type": "code",
   "execution_count": 84,
   "id": "27defe17-cd6a-4934-ab93-20a872fc0175",
   "metadata": {},
   "outputs": [
    {
     "name": "stdout",
     "output_type": "stream",
     "text": [
      "[1 2 3 4]\n"
     ]
    }
   ],
   "source": [
    "print(my_array)"
   ]
  },
  {
   "cell_type": "code",
   "execution_count": 85,
   "id": "0a789527-2548-4212-9531-34300b572caf",
   "metadata": {},
   "outputs": [
    {
     "name": "stdout",
     "output_type": "stream",
     "text": [
      "[1, 2, 3, 4]\n"
     ]
    }
   ],
   "source": [
    "print(my_list)"
   ]
  },
  {
   "cell_type": "code",
   "execution_count": 86,
   "id": "5c5543e2-26b9-4c06-b988-60af20131a4c",
   "metadata": {},
   "outputs": [
    {
     "name": "stdout",
     "output_type": "stream",
     "text": [
      "<class 'list'>\n"
     ]
    }
   ],
   "source": [
    "print(type(my_list))"
   ]
  },
  {
   "cell_type": "code",
   "execution_count": 87,
   "id": "d9c20af0-955e-4bca-8019-f17055b32508",
   "metadata": {},
   "outputs": [
    {
     "name": "stdout",
     "output_type": "stream",
     "text": [
      "<class 'numpy.ndarray'>\n"
     ]
    }
   ],
   "source": [
    "print(type(my_array))"
   ]
  },
  {
   "cell_type": "code",
   "execution_count": 88,
   "id": "da104057-d947-40a3-9017-6b7c573ddc4a",
   "metadata": {},
   "outputs": [],
   "source": [
    "list1 = [1,2,3,4]\n",
    "list2 = [5,6,7,8]\n",
    "list3 = [9,10,11,12]"
   ]
  },
  {
   "cell_type": "code",
   "execution_count": 89,
   "id": "2ccc8dd1-7724-4d6c-a29b-cc476575f161",
   "metadata": {},
   "outputs": [],
   "source": [
    "my_2d_list = [list1,list2,list3]"
   ]
  },
  {
   "cell_type": "code",
   "execution_count": 91,
   "id": "1968f005-35c0-4706-94db-563ea1d63d89",
   "metadata": {},
   "outputs": [
    {
     "name": "stdout",
     "output_type": "stream",
     "text": [
      "[[1, 2, 3, 4], [5, 6, 7, 8], [9, 10, 11, 12]]\n"
     ]
    }
   ],
   "source": [
    "print(my_2d_list)"
   ]
  },
  {
   "cell_type": "code",
   "execution_count": 92,
   "id": "ba90e3a5-6df4-4cc2-b994-8bfcc634a386",
   "metadata": {},
   "outputs": [],
   "source": [
    "my_2d_array = np.array([list1,list2,list3])"
   ]
  },
  {
   "cell_type": "code",
   "execution_count": 93,
   "id": "2f5e3a94-9997-4bd9-addf-d782956b525d",
   "metadata": {},
   "outputs": [
    {
     "name": "stdout",
     "output_type": "stream",
     "text": [
      "[[ 1  2  3  4]\n",
      " [ 5  6  7  8]\n",
      " [ 9 10 11 12]]\n"
     ]
    }
   ],
   "source": [
    "print(my_2d_array)"
   ]
  },
  {
   "cell_type": "code",
   "execution_count": 94,
   "id": "9fced364-20f5-4dfe-b7ce-e9ceac39f59d",
   "metadata": {},
   "outputs": [
    {
     "data": {
      "text/plain": [
       "dtype('int32')"
      ]
     },
     "execution_count": 94,
     "metadata": {},
     "output_type": "execute_result"
    }
   ],
   "source": [
    "my_2d_array.dtype"
   ]
  },
  {
   "cell_type": "code",
   "execution_count": 96,
   "id": "c6904f9e-4de1-4208-85d0-0f80449ca806",
   "metadata": {},
   "outputs": [],
   "source": [
    "my_array_2 = np.array([0,0.2,4])"
   ]
  },
  {
   "cell_type": "code",
   "execution_count": 97,
   "id": "e1311e61-dc9e-46ef-8042-319f947b297a",
   "metadata": {},
   "outputs": [
    {
     "data": {
      "text/plain": [
       "dtype('float64')"
      ]
     },
     "execution_count": 97,
     "metadata": {},
     "output_type": "execute_result"
    }
   ],
   "source": [
    "my_array_2.dtype"
   ]
  },
  {
   "cell_type": "code",
   "execution_count": 102,
   "id": "129278f5-30d9-400e-baa9-21969f8f6cb1",
   "metadata": {},
   "outputs": [],
   "source": [
    "x = np.arange(1,13).reshape((3,4))"
   ]
  },
  {
   "cell_type": "code",
   "execution_count": 103,
   "id": "a55f0108-e7be-4e5c-885b-76920ce38651",
   "metadata": {},
   "outputs": [
    {
     "name": "stdout",
     "output_type": "stream",
     "text": [
      "2\n"
     ]
    }
   ],
   "source": [
    "print(x.ndim)"
   ]
  },
  {
   "cell_type": "code",
   "execution_count": 104,
   "id": "707aeaa2-c5f1-469a-b2b3-d2ab46d3aaa9",
   "metadata": {},
   "outputs": [
    {
     "name": "stdout",
     "output_type": "stream",
     "text": [
      "12\n"
     ]
    }
   ],
   "source": [
    "print(x.size)"
   ]
  },
  {
   "cell_type": "code",
   "execution_count": 107,
   "id": "0a2a97ef-1590-485e-82e1-ec06d4fa3ad1",
   "metadata": {},
   "outputs": [
    {
     "data": {
      "text/plain": [
       "4"
      ]
     },
     "execution_count": 107,
     "metadata": {},
     "output_type": "execute_result"
    }
   ],
   "source": [
    "x.shape[1]"
   ]
  },
  {
   "cell_type": "code",
   "execution_count": 112,
   "id": "b12c2d41-5046-46aa-be92-69991c644556",
   "metadata": {},
   "outputs": [],
   "source": [
    "y = np.arange(15,27)"
   ]
  },
  {
   "cell_type": "code",
   "execution_count": 109,
   "id": "87a701a0-bb96-4492-9e2d-3c34e5036240",
   "metadata": {},
   "outputs": [
    {
     "name": "stdout",
     "output_type": "stream",
     "text": [
      "[15 16 17 18 19 20 21 22 23 24 25]\n"
     ]
    }
   ],
   "source": [
    "print(y)"
   ]
  },
  {
   "cell_type": "code",
   "execution_count": 110,
   "id": "d361a459-f16d-48de-8548-e51046755ddc",
   "metadata": {},
   "outputs": [
    {
     "data": {
      "text/plain": [
       "array([19, 20, 21])"
      ]
     },
     "execution_count": 110,
     "metadata": {},
     "output_type": "execute_result"
    }
   ],
   "source": [
    "y[4:7]"
   ]
  },
  {
   "cell_type": "code",
   "execution_count": 113,
   "id": "10e63d68-689c-4b7f-ae34-66228755d832",
   "metadata": {},
   "outputs": [],
   "source": [
    "z = y.reshape((3,4))"
   ]
  },
  {
   "cell_type": "code",
   "execution_count": 114,
   "id": "4ad9d241-b9d5-4270-be5e-89ad0bc8293c",
   "metadata": {},
   "outputs": [
    {
     "name": "stdout",
     "output_type": "stream",
     "text": [
      "[[15 16 17 18]\n",
      " [19 20 21 22]\n",
      " [23 24 25 26]]\n"
     ]
    }
   ],
   "source": [
    "print(z)"
   ]
  },
  {
   "cell_type": "code",
   "execution_count": 115,
   "id": "57a43beb-7486-46bd-85bf-293f54a5d193",
   "metadata": {},
   "outputs": [
    {
     "data": {
      "text/plain": [
       "array([15, 19, 23])"
      ]
     },
     "execution_count": 115,
     "metadata": {},
     "output_type": "execute_result"
    }
   ],
   "source": [
    "z[:,0]"
   ]
  },
  {
   "cell_type": "markdown",
   "id": "d36cc009-32b1-4ff5-9a67-4db0df73a8aa",
   "metadata": {},
   "source": [
    "z[a:b:step1,q:w:step2]"
   ]
  },
  {
   "cell_type": "code",
   "execution_count": 116,
   "id": "ba1ea696-0e99-40e2-ad86-b91fb5f242a5",
   "metadata": {},
   "outputs": [
    {
     "data": {
      "text/plain": [
       "array([[15, 19, 23],\n",
       "       [16, 20, 24],\n",
       "       [17, 21, 25],\n",
       "       [18, 22, 26]])"
      ]
     },
     "execution_count": 116,
     "metadata": {},
     "output_type": "execute_result"
    }
   ],
   "source": [
    "np.transpose(z)"
   ]
  },
  {
   "cell_type": "code",
   "execution_count": 117,
   "id": "fef424d7-6d85-4a53-a8c6-f62bc93f804d",
   "metadata": {},
   "outputs": [
    {
     "data": {
      "text/plain": [
       "array([[15, 19, 23],\n",
       "       [16, 20, 24],\n",
       "       [17, 21, 25],\n",
       "       [18, 22, 26]])"
      ]
     },
     "execution_count": 117,
     "metadata": {},
     "output_type": "execute_result"
    }
   ],
   "source": [
    "z.T"
   ]
  },
  {
   "cell_type": "code",
   "execution_count": 118,
   "id": "c585c0fb-507f-4edd-9169-e6da64e9f334",
   "metadata": {},
   "outputs": [
    {
     "data": {
      "text/plain": [
       "array([0., 0., 0., 0., 0.])"
      ]
     },
     "execution_count": 118,
     "metadata": {},
     "output_type": "execute_result"
    }
   ],
   "source": [
    "np.zeros(5)"
   ]
  },
  {
   "cell_type": "code",
   "execution_count": 120,
   "id": "fb53c585-0d64-4e7a-a38d-6ba0b3c1ce8c",
   "metadata": {},
   "outputs": [
    {
     "data": {
      "text/plain": [
       "array([[[1., 1., 1.],\n",
       "        [1., 1., 1.]],\n",
       "\n",
       "       [[1., 1., 1.],\n",
       "        [1., 1., 1.]],\n",
       "\n",
       "       [[1., 1., 1.],\n",
       "        [1., 1., 1.]],\n",
       "\n",
       "       [[1., 1., 1.],\n",
       "        [1., 1., 1.]],\n",
       "\n",
       "       [[1., 1., 1.],\n",
       "        [1., 1., 1.]]])"
      ]
     },
     "execution_count": 120,
     "metadata": {},
     "output_type": "execute_result"
    }
   ],
   "source": [
    "np.ones((5,2,3))"
   ]
  },
  {
   "cell_type": "code",
   "execution_count": 121,
   "id": "67817499-a989-4a75-a107-98679b29e49a",
   "metadata": {},
   "outputs": [
    {
     "data": {
      "text/plain": [
       "array([[10, 10, 10],\n",
       "       [10, 10, 10]])"
      ]
     },
     "execution_count": 121,
     "metadata": {},
     "output_type": "execute_result"
    }
   ],
   "source": [
    "np.full((2,3),10)"
   ]
  },
  {
   "cell_type": "code",
   "execution_count": 122,
   "id": "ae2c1d42-23fd-4bf5-b16f-0367536498c1",
   "metadata": {},
   "outputs": [
    {
     "data": {
      "text/plain": [
       "array([2. , 2.1, 2.2, 2.3, 2.4, 2.5, 2.6, 2.7, 2.8, 2.9])"
      ]
     },
     "execution_count": 122,
     "metadata": {},
     "output_type": "execute_result"
    }
   ],
   "source": [
    "np.arange(2,3,.1)"
   ]
  },
  {
   "cell_type": "code",
   "execution_count": 124,
   "id": "7cdb61f8-0903-45cd-a17c-086c62998e4a",
   "metadata": {},
   "outputs": [
    {
     "data": {
      "text/plain": [
       "array([2.  , 2.25, 2.5 , 2.75, 3.  ])"
      ]
     },
     "execution_count": 124,
     "metadata": {},
     "output_type": "execute_result"
    }
   ],
   "source": [
    "np.linspace(2,3,num=5,endpoint=True)"
   ]
  },
  {
   "cell_type": "code",
   "execution_count": 125,
   "id": "d30e614b-530d-4490-a829-be7bf71ef46e",
   "metadata": {},
   "outputs": [
    {
     "data": {
      "text/plain": [
       "array([[0.23092674, 0.33626233],\n",
       "       [0.78738569, 0.09735869],\n",
       "       [0.91723643, 0.28646693]])"
      ]
     },
     "execution_count": 125,
     "metadata": {},
     "output_type": "execute_result"
    }
   ],
   "source": [
    "np.random.rand(3,2)"
   ]
  },
  {
   "cell_type": "code",
   "execution_count": 126,
   "id": "0c310292-8393-412c-9fec-3ab5bc604a3e",
   "metadata": {},
   "outputs": [
    {
     "data": {
      "text/plain": [
       "array([[16, 19],\n",
       "       [16, 10],\n",
       "       [11, 17]])"
      ]
     },
     "execution_count": 126,
     "metadata": {},
     "output_type": "execute_result"
    }
   ],
   "source": [
    "np.random.randint(10,20,(3,2))"
   ]
  },
  {
   "cell_type": "code",
   "execution_count": null,
   "id": "119b7981-bd9c-453e-83e1-9e84a385d256",
   "metadata": {},
   "outputs": [],
   "source": []
  }
 ],
 "metadata": {
  "kernelspec": {
   "display_name": "Python 3 (ipykernel)",
   "language": "python",
   "name": "python3"
  },
  "language_info": {
   "codemirror_mode": {
    "name": "ipython",
    "version": 3
   },
   "file_extension": ".py",
   "mimetype": "text/x-python",
   "name": "python",
   "nbconvert_exporter": "python",
   "pygments_lexer": "ipython3",
   "version": "3.9.13"
  }
 },
 "nbformat": 4,
 "nbformat_minor": 5
}
