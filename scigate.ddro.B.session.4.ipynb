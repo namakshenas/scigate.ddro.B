{
 "cells": [
  {
   "cell_type": "code",
   "execution_count": 25,
   "id": "62f2a03d-6d32-4d16-8688-fd7d3f3456a1",
   "metadata": {},
   "outputs": [],
   "source": [
    "import numpy as np\n",
    "from gurobipy import Model,GRB"
   ]
  },
  {
   "cell_type": "code",
   "execution_count": 26,
   "id": "9bfcb817-e2b5-44e0-be93-394d90aa804f",
   "metadata": {},
   "outputs": [],
   "source": [
    "# u_j\n",
    "p_utility = np.array([26,65,35,48,26,53,32,48,58,62])\n",
    "\n",
    "# w_j\n",
    "p_weight = np.array([27,28,16,28,24,25,19,23,29,29])\n",
    "\n",
    "#  Gamma\n",
    "p_gamma = 1.5\n",
    "\n",
    "# C\n",
    "p_capacity = 120"
   ]
  },
  {
   "cell_type": "code",
   "execution_count": 27,
   "id": "086ca9cb-8365-4367-8cd8-3bcf651625a4",
   "metadata": {},
   "outputs": [],
   "source": [
    "n_item = p_utility.shape[0]"
   ]
  },
  {
   "cell_type": "code",
   "execution_count": 28,
   "id": "6d591cdb-c57b-4a74-a108-846958b0c29a",
   "metadata": {},
   "outputs": [],
   "source": [
    "s_item = range(n_item)"
   ]
  },
  {
   "cell_type": "code",
   "execution_count": 29,
   "id": "bc0584df-4873-4efe-9437-b1f696aa6b90",
   "metadata": {},
   "outputs": [],
   "source": [
    "model = Model(\"robust_knapsack\")"
   ]
  },
  {
   "cell_type": "code",
   "execution_count": 30,
   "id": "64d7b005-1c22-45be-b72a-638d5a53e9c9",
   "metadata": {},
   "outputs": [],
   "source": [
    "# x_j\n",
    "v_select = model.addVars(n_item,vtype=GRB.BINARY)\n",
    "\n",
    "# p_j\n",
    "v_dual_p = model.addVars(n_item)\n",
    "\n",
    "# y_j\n",
    "v_dual_y = model.addVars(n_item)\n",
    "\n",
    "# z\n",
    "v_dual_z = model.addVar()"
   ]
  },
  {
   "cell_type": "code",
   "execution_count": 31,
   "id": "4b79a55a-3e2a-454c-a2d7-fcd459a08410",
   "metadata": {},
   "outputs": [
    {
     "name": "stdout",
     "output_type": "stream",
     "text": [
      "[2.7 2.8 1.6 2.8 2.4 2.5 1.9 2.3 2.9 2.9]\n"
     ]
    }
   ],
   "source": [
    "# w_hat_j\n",
    "p_weight_hat = p_weight*.1\n",
    "print(p_weight_hat)"
   ]
  },
  {
   "cell_type": "code",
   "execution_count": 32,
   "id": "6720b7c7-9026-48b4-9a11-cd22d9607747",
   "metadata": {},
   "outputs": [],
   "source": [
    "model.setObjective( sum( v_select[j]*p_utility[j] for j in s_item), GRB.MAXIMIZE)"
   ]
  },
  {
   "cell_type": "code",
   "execution_count": 33,
   "id": "edb544ed-f7aa-4da7-9b7b-b0dc2355f96d",
   "metadata": {},
   "outputs": [
    {
     "data": {
      "text/plain": [
       "<gurobi.Constr *Awaiting Model Update*>"
      ]
     },
     "execution_count": 33,
     "metadata": {},
     "output_type": "execute_result"
    }
   ],
   "source": [
    "model.addConstr( sum(v_select[j]*p_weight[j] for j in s_item) +\n",
    "                p_gamma*v_dual_z + sum(v_dual_p[j] for j in s_item) <= p_capacity)"
   ]
  },
  {
   "cell_type": "code",
   "execution_count": 34,
   "id": "fa931aaa-5d66-471a-b9e8-1640310108bb",
   "metadata": {},
   "outputs": [],
   "source": [
    "for j in s_item:\n",
    "    model.addConstr(v_dual_p[j] + v_dual_z >= p_weight_hat[j]*v_dual_y[j])"
   ]
  },
  {
   "cell_type": "code",
   "execution_count": 35,
   "id": "72d5b23b-c4fb-4a74-a762-548f837eb4d3",
   "metadata": {},
   "outputs": [],
   "source": [
    "for j in s_item:\n",
    "    model.addConstr(v_select[j] >= -1*v_dual_y[j])\n",
    "    model.addConstr(v_select[j] <= v_dual_y[j])"
   ]
  },
  {
   "cell_type": "code",
   "execution_count": 36,
   "id": "790b0faa-e4cf-4c2f-9d77-50c0c6afa342",
   "metadata": {},
   "outputs": [
    {
     "name": "stdout",
     "output_type": "stream",
     "text": [
      "Gurobi Optimizer version 10.0.1 build v10.0.1rc0 (win64)\n",
      "\n",
      "CPU model: Intel(R) Core(TM) i7-7500U CPU @ 2.70GHz, instruction set [SSE2|AVX|AVX2]\n",
      "Thread count: 2 physical cores, 4 logical processors, using up to 4 threads\n",
      "\n",
      "Optimize a model with 31 rows, 31 columns and 91 nonzeros\n",
      "Model fingerprint: 0x57cc46b3\n",
      "Variable types: 21 continuous, 10 integer (10 binary)\n",
      "Coefficient statistics:\n",
      "  Matrix range     [1e+00, 3e+01]\n",
      "  Objective range  [3e+01, 7e+01]\n",
      "  Bounds range     [1e+00, 1e+00]\n",
      "  RHS range        [1e+02, 1e+02]\n",
      "Found heuristic solution: objective -0.0000000\n",
      "Presolve removed 20 rows and 10 columns\n",
      "Presolve time: 0.00s\n",
      "Presolved: 11 rows, 21 columns, 51 nonzeros\n",
      "Found heuristic solution: objective 242.0000000\n",
      "Variable types: 11 continuous, 10 integer (10 binary)\n",
      "\n",
      "Root relaxation: objective 2.522674e+02, 6 iterations, 0.00 seconds (0.00 work units)\n",
      "\n",
      "    Nodes    |    Current Node    |     Objective Bounds      |     Work\n",
      " Expl Unexpl |  Obj  Depth IntInf | Incumbent    BestBd   Gap | It/Node Time\n",
      "\n",
      "     0     0  252.26738    0    2  242.00000  252.26738  4.24%     -    0s\n",
      "     0     0  246.02105    0    1  242.00000  246.02105  1.66%     -    0s\n",
      "     0     0  244.47812    0    3  242.00000  244.47812  1.02%     -    0s\n",
      "     0     0  243.88533    0    3  242.00000  243.88533  0.78%     -    0s\n",
      "     0     0     cutoff    0       242.00000  242.00000  0.00%     -    0s\n",
      "\n",
      "Cutting planes:\n",
      "  Gomory: 1\n",
      "  Cover: 1\n",
      "  MIR: 1\n",
      "\n",
      "Explored 1 nodes (21 simplex iterations) in 0.05 seconds (0.00 work units)\n",
      "Thread count was 4 (of 4 available processors)\n",
      "\n",
      "Solution count 2: 242 -0 \n",
      "\n",
      "Optimal solution found (tolerance 1.00e-04)\n",
      "Best objective 2.420000000000e+02, best bound 2.420000000000e+02, gap 0.0000%\n",
      "objective =  242.0\n",
      "{0: -0.0, 1: 1.0, 2: 1.0, 3: -0.0, 4: -0.0, 5: 0.0, 6: 1.0, 7: 1.0, 8: -0.0, 9: 1.0}\n"
     ]
    }
   ],
   "source": [
    "model.optimize()\n",
    "status = model.status\n",
    "if status == GRB.OPTIMAL:\n",
    "    print(\"objective = \", model.objVal)\n",
    "    print(model.getAttr('X',v_select))"
   ]
  },
  {
   "cell_type": "code",
   "execution_count": 19,
   "id": "610a6ae1-4381-444f-8ebc-39c09fd67605",
   "metadata": {},
   "outputs": [],
   "source": [
    "p_utility = np.array([26,65,35,48,26,53,32,48,58,62])\n",
    "p_weight = np.array([27,28,16,28,24,25,19,23,29,29])\n",
    "p_gamma = 2\n",
    "p_capacity = 120\n",
    "n_item = p_utility.shape[0]\n",
    "s_item = range(n_item)\n",
    "model = Model(\"robust_knapsack\")\n",
    "v_select = model.addVars(n_item,vtype=GRB.BINARY)\n",
    "v_dual_p = model.addVars(n_item)\n",
    "v_dual_y = model.addVars(n_item)\n",
    "v_dual_z = model.addVar()\n",
    "p_weight_hat = p_weight*.1\n",
    "model.setObjective( sum( v_select[j]*p_utility[j] for j in s_item), GRB.MAXIMIZE)\n",
    "for j in s_item:\n",
    "    model.addConstr(v_dual_p[j] + v_dual_z >= p_weight_hat[j]*v_dual_y[j])\n",
    "for j in s_item:\n",
    "    model.addConstr(v_select[j] >= -1*v_dual_y[j])\n",
    "    model.addConstr(v_select[j] <= v_dual_y[j])"
   ]
  },
  {
   "cell_type": "code",
   "execution_count": 20,
   "id": "0466491e-5289-405e-b2d8-f9dcca9f6dcd",
   "metadata": {},
   "outputs": [],
   "source": [
    "p_gamma_vec = np.arange(0,n_item,.5).tolist()\n",
    "obj_vec = np.zeros(len(p_gamma_vec))\n",
    "model.setParam('OutputFlag',0)\n",
    "violation_perc = 0"
   ]
  },
  {
   "cell_type": "code",
   "execution_count": 23,
   "id": "abea8d96-0216-4f42-a971-eb1f18b4afb8",
   "metadata": {},
   "outputs": [
    {
     "name": "stdout",
     "output_type": "stream",
     "text": [
      "Gamma =  0.0 : constraints are not violated and violation perc =  0\n",
      "Gamma =  0.5 : constraints are  violated and violation perc =  2.5\n",
      "Gamma =  1.0 : constraints are  violated and violation perc =  2.5\n",
      "Gamma =  1.5 : constraints are  violated and violation perc =  4.166666666666667\n",
      "Gamma =  2.0 : constraints are  violated and violation perc =  7.5\n",
      "Gamma =  2.5 : constraints are  violated and violation perc =  7.5\n",
      "Gamma =  3.0 : constraints are  violated and violation perc =  7.5\n",
      "Gamma =  3.5 : constraints are  violated and violation perc =  9.166666666666666\n",
      "Gamma =  4.0 : constraints are  violated and violation perc =  9.166666666666666\n",
      "Gamma =  4.5 : constraints are  violated and violation perc =  9.166666666666666\n",
      "Gamma =  5.0 : constraints are  violated and violation perc =  9.166666666666666\n",
      "Gamma =  5.5 : constraints are  violated and violation perc =  9.166666666666666\n",
      "Gamma =  6.0 : constraints are  violated and violation perc =  9.166666666666666\n",
      "Gamma =  6.5 : constraints are  violated and violation perc =  9.166666666666666\n",
      "Gamma =  7.0 : constraints are  violated and violation perc =  9.166666666666666\n",
      "Gamma =  7.5 : constraints are  violated and violation perc =  9.166666666666666\n",
      "Gamma =  8.0 : constraints are  violated and violation perc =  9.166666666666666\n",
      "Gamma =  8.5 : constraints are  violated and violation perc =  9.166666666666666\n",
      "Gamma =  9.0 : constraints are  violated and violation perc =  9.166666666666666\n",
      "Gamma =  9.5 : constraints are  violated and violation perc =  9.166666666666666\n"
     ]
    }
   ],
   "source": [
    "for g in range(len(p_gamma_vec)):\n",
    "    model.addConstr( sum(v_select[j]*p_weight[j] for j in s_item) +\n",
    "                p_gamma_vec[g]*v_dual_z + sum(v_dual_p[j] for j in s_item) \n",
    "                    <= p_capacity,'cap_constr')\n",
    "    model.optimize()\n",
    "    v_select_robust = np.array([v_select[s].X for s in s_item]).astype(int)\n",
    "    lhs_determ = np.sum(v_select_robust*p_weight)\n",
    "    if lhs_determ - p_capacity < 0:\n",
    "        violated = ''\n",
    "        violation_perc = (p_capacity-lhs_determ)*100/p_capacity\n",
    "    else:\n",
    "        violation_perc = 0\n",
    "        violated = 'not'\n",
    "    print(\"Gamma = \",p_gamma_vec[g],\": constraints are\",violated,\n",
    "          \"violated and violation perc = \",violation_perc)\n",
    "    obj_vec[g] = model.objVal\n",
    "    model.remove(model.getConstrByName('cap_constr'))\n",
    "    model.update()"
   ]
  },
  {
   "cell_type": "code",
   "execution_count": 24,
   "id": "98eb8dce-f730-4454-8909-e249a3ae2d43",
   "metadata": {},
   "outputs": [
    {
     "data": {
      "image/png": "[encoded data removed]",
      "text/plain": [
       "<Figure size 1000x600 with 1 Axes>"
      ]
     },
     "metadata": {},
     "output_type": "display_data"
    }
   ],
   "source": [
    "import matplotlib.pyplot as plt\n",
    "fig = plt.figure()\n",
    "plt.plot(p_gamma_vec,obj_vec)\n",
    "plt.ylabel(\"objective\")\n",
    "plt.xlabel(\"GAMMA\")\n",
    "plt.grid()\n",
    "fig.set_size_inches(10,6)\n",
    "plt.show()"
   ]
  },
  {
   "cell_type": "code",
   "execution_count": 37,
   "id": "032100f1-4e7e-4e4f-8ba4-8c75976b7dd1",
   "metadata": {},
   "outputs": [
    {
     "name": "stdout",
     "output_type": "stream",
     "text": [
      "[0 1 1 0 0 0 1 1 0 1]\n"
     ]
    }
   ],
   "source": [
    "v_select_robust = np.array([v_select[s].X for s in s_item]).astype(int)\n",
    "print(v_select_robust)"
   ]
  },
  {
   "cell_type": "code",
   "execution_count": 38,
   "id": "d791267c-b03f-4450-a631-046d5938b598",
   "metadata": {},
   "outputs": [],
   "source": [
    "perturb_vec = v_select_robust*p_weight_hat"
   ]
  },
  {
   "cell_type": "code",
   "execution_count": 39,
   "id": "7e1474a0-dc51-457d-bac4-5a1db33c5559",
   "metadata": {},
   "outputs": [
    {
     "data": {
      "text/plain": [
       "array([0. , 2.8, 1.6, 0. , 0. , 0. , 1.9, 2.3, 0. , 2.9])"
      ]
     },
     "execution_count": 39,
     "metadata": {},
     "output_type": "execute_result"
    }
   ],
   "source": [
    "perturb_vec"
   ]
  },
  {
   "cell_type": "code",
   "execution_count": 40,
   "id": "5f165b0c-53c7-49a2-9541-53d91d3a1c24",
   "metadata": {},
   "outputs": [
    {
     "data": {
      "text/plain": [
       "array([0, 3, 4, 5, 8, 2, 6, 7, 1, 9], dtype=int64)"
      ]
     },
     "execution_count": 40,
     "metadata": {},
     "output_type": "execute_result"
    }
   ],
   "source": [
    "np.argsort(perturb_vec)"
   ]
  },
  {
   "cell_type": "code",
   "execution_count": 41,
   "id": "38c84e97-0686-49d2-8d5e-772cfd8f84f6",
   "metadata": {},
   "outputs": [],
   "source": [
    "import numpy as np"
   ]
  },
  {
   "cell_type": "code",
   "execution_count": 43,
   "id": "bb2edc9a-ae36-4204-8ff0-8e14d28825e9",
   "metadata": {},
   "outputs": [
    {
     "data": {
      "image/png": "[encoded data removed]",
      "text/plain": [
       "<Figure size 1000x600 with 1 Axes>"
      ]
     },
     "metadata": {},
     "output_type": "display_data"
    }
   ],
   "source": [
    "gamma = np.arange(0,n_item+.1,.1)\n",
    "bound1 = np.exp(-gamma**2/(2*n_item))\n",
    "\n",
    "import scipy as sp\n",
    "bound2 = 1 - sp.stats.norm.cdf(gamma)\n",
    "\n",
    "fig = plt.figure()\n",
    "plt.plot(gamma,bound1,'-',label=\"bound 1\", linewidth=4)\n",
    "plt.plot(gamma,bound2,'-',label=\"bound 2\", linewidth=4)\n",
    "\n",
    "plt.ylabel(\"UB violation degree\")\n",
    "plt.xlabel(\"GAMMA\")\n",
    "plt.grid()\n",
    "fig.set_size_inches(10,6)\n",
    "plt.show()"
   ]
  },
  {
   "cell_type": "code",
   "execution_count": 45,
   "id": "6158aba4-3826-4469-af84-011803aa135f",
   "metadata": {},
   "outputs": [
    {
     "data": {
      "text/plain": [
       "1.6468963447329423"
      ]
     },
     "execution_count": 45,
     "metadata": {},
     "output_type": "execute_result"
    }
   ],
   "source": [
    "np.interp(.05,bound2[::-1],gamma[::-1])"
   ]
  },
  {
   "cell_type": "code",
   "execution_count": null,
   "id": "3ae828dd-c50f-44e1-b945-257cbdca31b1",
   "metadata": {},
   "outputs": [],
   "source": []
  }
 ],
 "metadata": {
  "kernelspec": {
   "display_name": "Python 3 (ipykernel)",
   "language": "python",
   "name": "python3"
  },
  "language_info": {
   "codemirror_mode": {
    "name": "ipython",
    "version": 3
   },
   "file_extension": ".py",
   "mimetype": "text/x-python",
   "name": "python",
   "nbconvert_exporter": "python",
   "pygments_lexer": "ipython3",
   "version": "3.9.13"
  }
 },
 "nbformat": 4,
 "nbformat_minor": 5
}
