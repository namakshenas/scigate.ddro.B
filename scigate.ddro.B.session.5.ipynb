{
 "cells": [
  {
   "cell_type": "code",
   "execution_count": 1,
   "id": "a9d7df16-3ac7-4e52-aec5-7bc9cdc6e5e3",
   "metadata": {},
   "outputs": [],
   "source": [
    "import numpy as np\n",
    "from gurobipy import Model,GRB"
   ]
  },
  {
   "cell_type": "code",
   "execution_count": 2,
   "id": "9dca0fc7-fe7f-46d7-9d09-6a5e9fb8074c",
   "metadata": {},
   "outputs": [
    {
     "name": "stdout",
     "output_type": "stream",
     "text": [
      "Set parameter Username\n",
      "Academic license - for non-commercial use only - expires 2024-02-11\n"
     ]
    }
   ],
   "source": [
    "lp_priori = Model()"
   ]
  },
  {
   "cell_type": "code",
   "execution_count": 3,
   "id": "4d15c62b-bdf7-41f8-816e-1a28bbcc3b60",
   "metadata": {},
   "outputs": [],
   "source": [
    "a1 = np.arange(15,29)\n",
    "a2 = np.arange(3,19)\n",
    "c = np.array([3,2])"
   ]
  },
  {
   "cell_type": "code",
   "execution_count": 4,
   "id": "8a1c872c-dc6c-4e71-8427-d61108a26cb6",
   "metadata": {},
   "outputs": [],
   "source": [
    "x = lp_priori.addVars(2)"
   ]
  },
  {
   "cell_type": "code",
   "execution_count": 5,
   "id": "701c160b-dd79-48d0-8c9a-79930a7df4dc",
   "metadata": {},
   "outputs": [
    {
     "data": {
      "text/plain": [
       "<gurobi.Constr *Awaiting Model Update*>"
      ]
     },
     "execution_count": 5,
     "metadata": {},
     "output_type": "execute_result"
    }
   ],
   "source": [
    "# box uncertainty\n",
    "lp_priori.addConstr(np.max(a1)*x[0] + np.max(a2)*x[1] <= 50)"
   ]
  },
  {
   "cell_type": "code",
   "execution_count": 6,
   "id": "35976e18-d9d6-402d-a16c-0a3b8899a690",
   "metadata": {},
   "outputs": [],
   "source": [
    "lp_priori.setObjective( sum(c[i]*x[i] for i in range(2)), GRB.MAXIMIZE)"
   ]
  },
  {
   "cell_type": "code",
   "execution_count": 7,
   "id": "bde7fce1-10b3-4ded-a339-5e716ba4de3d",
   "metadata": {},
   "outputs": [
    {
     "name": "stdout",
     "output_type": "stream",
     "text": [
      "Gurobi Optimizer version 10.0.1 build v10.0.1rc0 (win64)\n",
      "\n",
      "CPU model: Intel(R) Core(TM) i7-7500U CPU @ 2.70GHz, instruction set [SSE2|AVX|AVX2]\n",
      "Thread count: 2 physical cores, 4 logical processors, using up to 4 threads\n",
      "\n",
      "Optimize a model with 1 rows, 2 columns and 2 nonzeros\n",
      "Model fingerprint: 0x4ab8242e\n",
      "Coefficient statistics:\n",
      "  Matrix range     [2e+01, 3e+01]\n",
      "  Objective range  [2e+00, 3e+00]\n",
      "  Bounds range     [0e+00, 0e+00]\n",
      "  RHS range        [5e+01, 5e+01]\n",
      "Presolve removed 1 rows and 2 columns\n",
      "Presolve time: 0.03s\n",
      "Presolve: All rows and columns removed\n",
      "Iteration    Objective       Primal Inf.    Dual Inf.      Time\n",
      "       0    5.5555556e+00   0.000000e+00   0.000000e+00      0s\n",
      "\n",
      "Solved in 0 iterations and 0.05 seconds (0.00 work units)\n",
      "Optimal objective  5.555555556e+00\n",
      "-----------------------------\n",
      "objective =  5.56\n",
      "x:  [0.   2.78]\n"
     ]
    }
   ],
   "source": [
    "lp_priori.optimize()\n",
    "print(\"-----------------------------\")\n",
    "print(\"objective = \",np.round(lp_priori.objVal,2))\n",
    "print(\"x: \",np.round([x[s].X for s in range(2)],2))"
   ]
  },
  {
   "cell_type": "code",
   "execution_count": 8,
   "id": "069bf3c9-9f43-4096-a381-e307ee7a9006",
   "metadata": {},
   "outputs": [
    {
     "data": {
      "text/html": [
       "<div>\n",
       "<style scoped>\n",
       "    .dataframe tbody tr th:only-of-type {\n",
       "        vertical-align: middle;\n",
       "    }\n",
       "\n",
       "    .dataframe tbody tr th {\n",
       "        vertical-align: top;\n",
       "    }\n",
       "\n",
       "    .dataframe thead th {\n",
       "        text-align: right;\n",
       "    }\n",
       "</style>\n",
       "<table border=\"1\" class=\"dataframe\">\n",
       "  <thead>\n",
       "    <tr style=\"text-align: right;\">\n",
       "      <th></th>\n",
       "      <th>0</th>\n",
       "      <th>1</th>\n",
       "      <th>2</th>\n",
       "      <th>3</th>\n",
       "      <th>4</th>\n",
       "      <th>5</th>\n",
       "      <th>6</th>\n",
       "      <th>7</th>\n",
       "      <th>8</th>\n",
       "      <th>9</th>\n",
       "      <th>...</th>\n",
       "      <th>90</th>\n",
       "      <th>91</th>\n",
       "      <th>92</th>\n",
       "      <th>93</th>\n",
       "      <th>94</th>\n",
       "      <th>95</th>\n",
       "      <th>96</th>\n",
       "      <th>97</th>\n",
       "      <th>98</th>\n",
       "      <th>99</th>\n",
       "    </tr>\n",
       "  </thead>\n",
       "  <tbody>\n",
       "    <tr>\n",
       "      <th>0</th>\n",
       "      <td>20.653077</td>\n",
       "      <td>18.483860</td>\n",
       "      <td>21.446036</td>\n",
       "      <td>20.537396</td>\n",
       "      <td>20.673170</td>\n",
       "      <td>18.211768</td>\n",
       "      <td>19.891635</td>\n",
       "      <td>21.739912</td>\n",
       "      <td>19.053237</td>\n",
       "      <td>18.378939</td>\n",
       "      <td>...</td>\n",
       "      <td>20.762971</td>\n",
       "      <td>21.016020</td>\n",
       "      <td>20.507729</td>\n",
       "      <td>21.078919</td>\n",
       "      <td>19.642891</td>\n",
       "      <td>20.044467</td>\n",
       "      <td>17.159307</td>\n",
       "      <td>19.847692</td>\n",
       "      <td>19.364625</td>\n",
       "      <td>19.567162</td>\n",
       "    </tr>\n",
       "    <tr>\n",
       "      <th>1</th>\n",
       "      <td>11.954259</td>\n",
       "      <td>6.803893</td>\n",
       "      <td>11.352690</td>\n",
       "      <td>10.790166</td>\n",
       "      <td>10.977059</td>\n",
       "      <td>6.850167</td>\n",
       "      <td>9.517575</td>\n",
       "      <td>13.341648</td>\n",
       "      <td>8.404158</td>\n",
       "      <td>5.217831</td>\n",
       "      <td>...</td>\n",
       "      <td>10.378968</td>\n",
       "      <td>11.070541</td>\n",
       "      <td>11.770835</td>\n",
       "      <td>12.368959</td>\n",
       "      <td>10.317354</td>\n",
       "      <td>9.820686</td>\n",
       "      <td>6.328218</td>\n",
       "      <td>10.154187</td>\n",
       "      <td>9.845467</td>\n",
       "      <td>8.331373</td>\n",
       "    </tr>\n",
       "  </tbody>\n",
       "</table>\n",
       "<p>2 rows × 100 columns</p>\n",
       "</div>"
      ],
      "text/plain": [
       "           0          1          2          3          4          5  \\\n",
       "0  20.653077  18.483860  21.446036  20.537396  20.673170  18.211768   \n",
       "1  11.954259   6.803893  11.352690  10.790166  10.977059   6.850167   \n",
       "\n",
       "           6          7          8          9  ...         90         91  \\\n",
       "0  19.891635  21.739912  19.053237  18.378939  ...  20.762971  21.016020   \n",
       "1   9.517575  13.341648   8.404158   5.217831  ...  10.378968  11.070541   \n",
       "\n",
       "          92         93         94         95         96         97  \\\n",
       "0  20.507729  21.078919  19.642891  20.044467  17.159307  19.847692   \n",
       "1  11.770835  12.368959  10.317354   9.820686   6.328218  10.154187   \n",
       "\n",
       "          98         99  \n",
       "0  19.364625  19.567162  \n",
       "1   9.845467   8.331373  \n",
       "\n",
       "[2 rows x 100 columns]"
      ]
     },
     "execution_count": 8,
     "metadata": {},
     "output_type": "execute_result"
    }
   ],
   "source": [
    "import pandas as pd\n",
    "df = pd.read_csv(\"sample-linear-lp-ddro.csv\")\n",
    "df"
   ]
  },
  {
   "cell_type": "code",
   "execution_count": 9,
   "id": "b7206ccf-faed-40e5-9833-5e943a90ccbf",
   "metadata": {},
   "outputs": [],
   "source": [
    "a = df.to_numpy()"
   ]
  },
  {
   "cell_type": "code",
   "execution_count": 10,
   "id": "1b83e907-76d6-4a62-935d-41cefa828948",
   "metadata": {},
   "outputs": [
    {
     "data": {
      "image/png": "[encoded data removed]",
      "text/plain": [
       "<Figure size 640x480 with 1 Axes>"
      ]
     },
     "metadata": {},
     "output_type": "display_data"
    }
   ],
   "source": [
    "import matplotlib.pyplot as plt\n",
    "sig, axes = plt.subplots()\n",
    "axes.violinplot(a.T,showmeans=True, showmedians=True, showextrema=True)\n",
    "\n",
    "plt.plot(1,np.min(a1),'o',color='red')\n",
    "plt.plot(1,np.max(a1),'o',color='red')\n",
    "\n",
    "plt.plot(2,np.min(a2),'o',color='red')\n",
    "plt.plot(2,np.max(a2),'o',color='red')\n",
    "\n",
    "plt.xticks([1,2])\n",
    "plt.grid()\n",
    "\n",
    "plt.show()"
   ]
  },
  {
   "cell_type": "markdown",
   "id": "18fa8cb4-db8d-420d-80ac-11c43d3a5f85",
   "metadata": {},
   "source": [
    "# Steps of Algorithm:\n",
    "1. whitening Matrix (Q)\n",
    "2. Kernel Matrix\n",
    "3. Solve (QP) ====> SV, BSV\n",
    "4. Build and Solve Data-driven Robust Counterpart"
   ]
  },
  {
   "cell_type": "code",
   "execution_count": 13,
   "id": "c908a147-ca2e-42ce-9a88-e202126131ef",
   "metadata": {},
   "outputs": [],
   "source": [
    "def whitening_matrix(X):\n",
    "    sigma = np.cov(X, rowvar=True) # [M x M]\n",
    "    U,S,V = np.linalg.svd(sigma)\n",
    "    epsilon = 1e-5\n",
    "    ZCAMatrix = np.dot(U, np.dot(np.diag(1.0/np.sqrt(S + epsilon)), U.T)) # [M x M]\n",
    "    return ZCAMatrix"
   ]
  },
  {
   "cell_type": "code",
   "execution_count": 14,
   "id": "ec1b5850-b6a3-4e0e-a5da-5a617eca8cda",
   "metadata": {},
   "outputs": [],
   "source": [
    "Q = whitening_matrix(a)"
   ]
  },
  {
   "cell_type": "code",
   "execution_count": 15,
   "id": "ea41be0c-80d7-48d3-9745-723fe0c15f23",
   "metadata": {},
   "outputs": [
    {
     "data": {
      "text/plain": [
       "array([[ 1.79482344, -0.71216933],\n",
       "       [-0.71216933,  0.94292921]])"
      ]
     },
     "execution_count": 15,
     "metadata": {},
     "output_type": "execute_result"
    }
   ],
   "source": [
    "Q"
   ]
  },
  {
   "cell_type": "code",
   "execution_count": 18,
   "id": "83c30fc4-9b9c-496f-95fc-7b3fbe1da1d8",
   "metadata": {},
   "outputs": [],
   "source": [
    "# kernel matrix\n",
    "l_psd = np.zeros(a.shape[0])\n",
    "for i in range(a.shape[0]):\n",
    "    l_ub = np.max(np.dot(Q[i,:].T,a))\n",
    "    l_lb = np.min(np.dot(Q[i,:].T,a))\n",
    "    l_psd[i] = l_ub - l_lb + .0001"
   ]
  },
  {
   "cell_type": "code",
   "execution_count": 19,
   "id": "03e7d314-bc03-4277-9ec1-fc88a4fef0c9",
   "metadata": {},
   "outputs": [
    {
     "data": {
      "text/plain": [
       "array([4.39112423, 5.85928802])"
      ]
     },
     "execution_count": 19,
     "metadata": {},
     "output_type": "execute_result"
    }
   ],
   "source": [
    "l_psd"
   ]
  },
  {
   "cell_type": "code",
   "execution_count": 21,
   "id": "0bac9914-827f-42f1-bcec-3cb206d9c2a7",
   "metadata": {},
   "outputs": [],
   "source": [
    "ker_mat = np.zeros((a.shape[1],a.shape[1]))"
   ]
  },
  {
   "cell_type": "code",
   "execution_count": 24,
   "id": "a1a792d3-486d-4b2e-bf18-18fc2792150f",
   "metadata": {},
   "outputs": [],
   "source": [
    "for u in range(a.shape[1]):\n",
    "    for v in range(a.shape[1]):\n",
    "        ker_mat[u,v] = np.sum(l_psd) - np.linalg.norm(np.dot(Q,a[:,u] - a[:,v]),1)"
   ]
  },
  {
   "cell_type": "code",
   "execution_count": 25,
   "id": "ce610c2c-283f-4fef-b5b3-27bc85c80475",
   "metadata": {},
   "outputs": [
    {
     "data": {
      "text/plain": [
       "array([[10.25041225,  6.71340264,  7.26681403, ...,  8.9630738 ,\n",
       "         8.36883906,  6.97656134],\n",
       "       [ 6.71340264, 10.25041225,  5.99372006, ...,  8.00074109,\n",
       "         7.42437706,  8.72509002],\n",
       "       [ 7.26681403,  5.99372006, 10.25041225, ...,  8.22701487,\n",
       "         7.5269303 ,  7.51904229],\n",
       "       ...,\n",
       "       [ 8.9630738 ,  8.00074109,  8.22701487, ..., 10.25041225,\n",
       "         9.55032768,  7.93676219],\n",
       "       [ 8.36883906,  7.42437706,  7.5269303 , ...,  9.55032768,\n",
       "        10.25041225,  7.23667762],\n",
       "       [ 6.97656134,  8.72509002,  7.51904229, ...,  7.93676219,\n",
       "         7.23667762, 10.25041225]])"
      ]
     },
     "execution_count": 25,
     "metadata": {},
     "output_type": "execute_result"
    }
   ],
   "source": [
    "ker_mat"
   ]
  },
  {
   "cell_type": "code",
   "execution_count": 26,
   "id": "11c2b319-bfa4-4dca-82dc-69cbf172e3bd",
   "metadata": {},
   "outputs": [
    {
     "data": {
      "text/plain": [
       "array([8.05313930e+02, 6.21718923e+01, 5.71245993e+01, 2.05169589e+01,\n",
       "       1.51786372e+01, 1.04211268e+01, 8.55444387e+00, 5.36724349e+00,\n",
       "       4.99232168e+00, 3.68285557e+00, 3.09565548e+00, 2.60707736e+00,\n",
       "       2.33258097e+00, 2.01561996e+00, 1.75168596e+00, 1.64877847e+00,\n",
       "       1.44321332e+00, 1.32673844e+00, 1.02145773e+00, 9.93536933e-01,\n",
       "       9.35206704e-01, 7.40853690e-01, 7.19449871e-01, 6.83997162e-01,\n",
       "       6.44013618e-01, 5.89823108e-01, 5.35282712e-01, 4.81075847e-01,\n",
       "       4.47542744e-01, 4.44316206e-01, 4.04478889e-01, 3.68828256e-01,\n",
       "       3.46687442e-01, 3.30334618e-01, 3.12180233e-01, 2.89955269e-01,\n",
       "       2.66859495e-01, 2.53019662e-01, 2.21192346e-01, 2.15586453e-01,\n",
       "       2.02728385e-01, 1.97329891e-01, 1.75917246e-01, 1.73317816e-01,\n",
       "       1.62567816e-01, 1.48282282e-01, 1.41462412e-01, 1.39325257e-01,\n",
       "       1.33605707e-01, 1.23173305e-01, 1.19426790e-01, 1.17817487e-01,\n",
       "       1.11242116e-01, 1.03971726e-01, 1.00275913e-01, 9.87539733e-02,\n",
       "       9.63683676e-02, 9.06868900e-02, 8.83375476e-02, 8.32185991e-02,\n",
       "       8.05762386e-02, 7.58368441e-02, 7.40993704e-02, 7.26845643e-02,\n",
       "       6.98828841e-02, 6.86029414e-02, 8.27477017e-03, 6.45252189e-02,\n",
       "       6.29551962e-02, 1.08450551e-02, 6.03687605e-02, 1.26471521e-02,\n",
       "       5.80856458e-02, 5.63665010e-02, 5.54302082e-02, 5.29932407e-02,\n",
       "       5.16956155e-02, 1.41868805e-02, 1.55872275e-02, 4.70307508e-02,\n",
       "       4.67271339e-02, 2.03886851e-02, 2.07498197e-02, 2.12372163e-02,\n",
       "       2.16801314e-02, 4.35064190e-02, 4.16629345e-02, 4.10148296e-02,\n",
       "       3.93084781e-02, 3.75516381e-02, 2.41870137e-02, 2.49365858e-02,\n",
       "       2.62689470e-02, 2.72542072e-02, 2.92672002e-02, 3.45855932e-02,\n",
       "       3.40746263e-02, 3.08633946e-02, 3.23810359e-02, 3.20567589e-02])"
      ]
     },
     "execution_count": 26,
     "metadata": {},
     "output_type": "execute_result"
    }
   ],
   "source": [
    "np.linalg.eigvals(ker_mat)"
   ]
  },
  {
   "cell_type": "code",
   "execution_count": 27,
   "id": "237c31ff-2d0b-497e-a1d1-41a92374c033",
   "metadata": {},
   "outputs": [],
   "source": [
    "# SVC (QP)\n",
    "svc = Model(\"support-vector-clustering\")"
   ]
  },
  {
   "cell_type": "code",
   "execution_count": 28,
   "id": "b099bd27-fe6f-47ae-81cb-993197e9144e",
   "metadata": {},
   "outputs": [],
   "source": [
    "p_regul = .1\n",
    "n_samples = a.shape[1]\n",
    "p_ker_mat = ker_mat"
   ]
  },
  {
   "cell_type": "code",
   "execution_count": 29,
   "id": "80f869bb-0211-42b1-8065-6a4bbf2234e2",
   "metadata": {},
   "outputs": [],
   "source": [
    "v_alpha = svc.addVars(n_samples, lb=0, ub=1/(n_samples*p_regul))"
   ]
  },
  {
   "cell_type": "code",
   "execution_count": 30,
   "id": "1be8ae8f-7282-463e-a082-c625db9314b3",
   "metadata": {},
   "outputs": [
    {
     "data": {
      "text/plain": [
       "<gurobi.Constr *Awaiting Model Update*>"
      ]
     },
     "execution_count": 30,
     "metadata": {},
     "output_type": "execute_result"
    }
   ],
   "source": [
    "svc.addConstr(sum(v_alpha[i] for i in range(n_samples)) == 1)"
   ]
  },
  {
   "cell_type": "code",
   "execution_count": 31,
   "id": "4447b15b-8cc0-4404-b693-44c50e7715f0",
   "metadata": {},
   "outputs": [],
   "source": [
    "svc.setObjective( sum(v_alpha[i]*v_alpha[j]*p_ker_mat[i,j] for i in range(n_samples)\n",
    "                      for j in range(n_samples)) - \n",
    "                 sum(v_alpha[i]*p_ker_mat[i,i] for i in range(n_samples)) )"
   ]
  },
  {
   "cell_type": "code",
   "execution_count": 32,
   "id": "35856723-4272-4500-8726-bb6b4f37b56a",
   "metadata": {},
   "outputs": [
    {
     "name": "stdout",
     "output_type": "stream",
     "text": [
      "Gurobi Optimizer version 10.0.1 build v10.0.1rc0 (win64)\n",
      "\n",
      "CPU model: Intel(R) Core(TM) i7-7500U CPU @ 2.70GHz, instruction set [SSE2|AVX|AVX2]\n",
      "Thread count: 2 physical cores, 4 logical processors, using up to 4 threads\n",
      "\n",
      "Optimize a model with 1 rows, 100 columns and 100 nonzeros\n",
      "Model fingerprint: 0x6a785662\n",
      "Model has 5050 quadratic objective terms\n",
      "Coefficient statistics:\n",
      "  Matrix range     [1e+00, 1e+00]\n",
      "  Objective range  [1e+01, 1e+01]\n",
      "  QObjective range [1e+01, 4e+01]\n",
      "  Bounds range     [1e-01, 1e-01]\n",
      "  RHS range        [1e+00, 1e+00]\n",
      "Presolve time: 0.03s\n",
      "Presolved: 1 rows, 100 columns, 100 nonzeros\n",
      "Presolved model has 5050 quadratic objective terms\n",
      "Ordering time: 0.00s\n",
      "\n",
      "Barrier statistics:\n",
      " Free vars  : 99\n",
      " AA' NZ     : 4.950e+03\n",
      " Factor NZ  : 5.050e+03\n",
      " Factor Ops : 3.384e+05 (less than 1 second per iteration)\n",
      " Threads    : 1\n",
      "\n",
      "                  Objective                Residual\n",
      "Iter       Primal          Dual         Primal    Dual     Compl     Time\n",
      "   0  -8.42038353e+05 -2.03264462e+05  7.81e+04 3.60e+02  1.00e+06     0s\n",
      "   1  -1.41292174e+03 -1.00035407e+04  1.06e+02 4.90e-01  1.41e+03     0s\n",
      "   2  -1.28930453e+01 -8.90186577e+03  7.96e-01 3.67e-03  5.40e+01     0s\n",
      "   3  -2.29526095e+00 -3.48952395e+02  7.96e-07 3.67e-09  1.73e+00     0s\n",
      "   4  -2.30871975e+00 -7.84840610e+00  1.13e-08 5.19e-11  2.77e-02     0s\n",
      "   5  -3.15768802e+00 -5.16690513e+00  1.59e-09 7.31e-12  1.00e-02     0s\n",
      "   6  -3.59364839e+00 -4.42022052e+00  2.68e-11 1.20e-13  4.13e-03     0s\n",
      "   7  -3.84122892e+00 -4.09154868e+00  4.44e-16 8.32e-15  1.25e-03     0s\n",
      "   8  -3.91107764e+00 -3.92599111e+00  5.00e-16 3.61e-15  7.46e-05     0s\n",
      "   9  -3.91772099e+00 -3.91786242e+00  1.39e-16 4.20e-15  7.07e-07     0s\n",
      "  10  -3.91777340e+00 -3.91777385e+00  1.11e-15 3.87e-15  2.24e-09     0s\n",
      "  11  -3.91777370e+00 -3.91777370e+00  1.05e-14 3.64e-15  2.24e-12     0s\n",
      "\n",
      "Barrier solved model in 11 iterations and 0.08 seconds (0.01 work units)\n",
      "Optimal objective -3.91777370e+00\n",
      "\n"
     ]
    }
   ],
   "source": [
    "svc.optimize()"
   ]
  },
  {
   "cell_type": "code",
   "execution_count": 33,
   "id": "3d9d93ea-0408-4716-9b57-66d22caa9414",
   "metadata": {},
   "outputs": [],
   "source": [
    "v_alpha_array = np.round([v_alpha[s].X for s in range(n_samples)],2)"
   ]
  },
  {
   "cell_type": "code",
   "execution_count": 34,
   "id": "aa818c16-ce1d-48dc-85af-0bd68661ccfe",
   "metadata": {},
   "outputs": [
    {
     "name": "stdout",
     "output_type": "stream",
     "text": [
      "[0.   0.   0.   0.   0.   0.   0.   0.07 0.   0.1  0.   0.   0.   0.\n",
      " 0.   0.   0.   0.   0.   0.   0.   0.   0.   0.   0.   0.   0.03 0.\n",
      " 0.   0.   0.   0.1  0.   0.   0.1  0.   0.   0.   0.   0.   0.   0.03\n",
      " 0.04 0.   0.1  0.   0.   0.   0.   0.   0.   0.   0.   0.   0.   0.\n",
      " 0.   0.   0.   0.   0.   0.   0.   0.   0.   0.   0.   0.   0.1  0.\n",
      " 0.   0.   0.   0.   0.   0.09 0.   0.   0.   0.06 0.   0.   0.   0.\n",
      " 0.07 0.   0.   0.   0.   0.   0.   0.   0.   0.   0.   0.   0.1  0.\n",
      " 0.   0.  ]\n"
     ]
    }
   ],
   "source": [
    "print(v_alpha_array)"
   ]
  },
  {
   "cell_type": "code",
   "execution_count": 37,
   "id": "8b1a4bdc-b818-4f43-bc31-aff8789c9154",
   "metadata": {},
   "outputs": [
    {
     "name": "stdout",
     "output_type": "stream",
     "text": [
      "(array([ 7,  9, 26, 31, 34, 41, 42, 44, 68, 75, 79, 84, 96], dtype=int64),)\n",
      "(array([ 7, 26, 41, 42, 75, 79, 84], dtype=int64),)\n"
     ]
    }
   ],
   "source": [
    "SV = np.where(v_alpha_array > 0)\n",
    "BSV = np.where( (v_alpha_array > 0) & (v_alpha_array < 1/(n_samples*p_regul)) ) \n",
    "print(SV)\n",
    "print(BSV)"
   ]
  },
  {
   "cell_type": "code",
   "execution_count": 38,
   "id": "b73e3042-3f09-41b2-ba75-b8f95c81eef7",
   "metadata": {},
   "outputs": [],
   "source": [
    "SV = np.array(SV).ravel()\n",
    "BSV = np.array(BSV).ravel()"
   ]
  },
  {
   "cell_type": "code",
   "execution_count": 39,
   "id": "34bea7aa-47b1-4251-9dde-5907aa8b53bf",
   "metadata": {},
   "outputs": [
    {
     "name": "stdout",
     "output_type": "stream",
     "text": [
      "[ 7  9 26 31 34 41 42 44 68 75 79 84 96]\n",
      "[ 7 26 41 42 75 79 84]\n"
     ]
    }
   ],
   "source": [
    "print(SV)\n",
    "print(BSV)"
   ]
  },
  {
   "cell_type": "code",
   "execution_count": 40,
   "id": "9c97a397-bdad-46fc-b33f-a3e11631faed",
   "metadata": {},
   "outputs": [
    {
     "data": {
      "image/png": "[encoded data removed]",
      "text/plain": [
       "<Figure size 640x480 with 1 Axes>"
      ]
     },
     "metadata": {},
     "output_type": "display_data"
    }
   ],
   "source": [
    "plt.plot(a[0,:],a[1,:], 'x',color='blue',label=\"data\")\n",
    "plt.plot(a[0,SV],a[1,SV], 'o',color='red',label=\"SV\")\n",
    "plt.plot(a[0,BSV],a[1,BSV], 'o',color='black',label=\"BSV\")\n",
    "plt.legend()\n",
    "plt.show()"
   ]
  },
  {
   "cell_type": "markdown",
   "id": "a52d664f-0ae6-4ea5-917f-8a0efe730194",
   "metadata": {},
   "source": [
    "# Data-driven Robust Counterpart"
   ]
  },
  {
   "cell_type": "code",
   "execution_count": 62,
   "id": "84baebe1-fe4f-430c-95e7-9de9eb83950e",
   "metadata": {},
   "outputs": [],
   "source": [
    "p_alpha_SV = v_alpha_array[SV]\n",
    "p_a_SV = a[:,SV]\n",
    "p_a_BSV = a[:,BSV]"
   ]
  },
  {
   "cell_type": "code",
   "execution_count": 63,
   "id": "7ae3ec47-e541-4c93-8b73-f08cf99aa5ec",
   "metadata": {},
   "outputs": [],
   "source": [
    "ddro = Model(\"data-driven-robust-opt-svc\")"
   ]
  },
  {
   "cell_type": "code",
   "execution_count": 64,
   "id": "991f0c0d-8bf7-46bc-ab8a-9a25c79331ce",
   "metadata": {},
   "outputs": [],
   "source": [
    "n_SV = SV.size\n",
    "n_BSV = BSV.size"
   ]
  },
  {
   "cell_type": "code",
   "execution_count": 65,
   "id": "6ef3a6ce-9416-45a7-b888-a2e9de1b3f7f",
   "metadata": {},
   "outputs": [
    {
     "name": "stdout",
     "output_type": "stream",
     "text": [
      "7\n"
     ]
    }
   ],
   "source": [
    "print(n_BSV)"
   ]
  },
  {
   "cell_type": "code",
   "execution_count": 66,
   "id": "caf9f7fe-bca8-41b9-9bb4-a490c4db7011",
   "metadata": {},
   "outputs": [],
   "source": [
    "p_rhs = 50"
   ]
  },
  {
   "cell_type": "code",
   "execution_count": 67,
   "id": "ec021056-7b34-4578-af90-92eccae09179",
   "metadata": {},
   "outputs": [],
   "source": [
    "p_obj = np.array([3,2])"
   ]
  },
  {
   "cell_type": "code",
   "execution_count": 68,
   "id": "bd18f670-59e4-4ef0-9434-dbcc4f25f856",
   "metadata": {},
   "outputs": [],
   "source": [
    "p_theta_vec = np.zeros(n_BSV)\n",
    "for ip in range(n_BSV):\n",
    "    p_theta_vec[ip] = np.sum([p_alpha_SV[i]*np.linalg.norm(np.dot(Q,p_a_BSV[:,ip]-p_a_SV[:,i]),1) for i in range(n_SV)])"
   ]
  },
  {
   "cell_type": "code",
   "execution_count": 69,
   "id": "56c7dd4f-91e9-44bc-9a3b-2b2a15507a93",
   "metadata": {},
   "outputs": [
    {
     "name": "stdout",
     "output_type": "stream",
     "text": [
      "3.6159276707843864\n"
     ]
    }
   ],
   "source": [
    "p_theta = np.min(p_theta_vec)\n",
    "print(p_theta)"
   ]
  },
  {
   "cell_type": "code",
   "execution_count": 70,
   "id": "c931c3cc-ff2b-43b2-a09b-f315f7318e69",
   "metadata": {},
   "outputs": [],
   "source": [
    "v_dual_eta = ddro.addVar()\n",
    "v_primal_x = ddro.addMVar(2)\n",
    "v_dual_la = ddro.addMVar((2,n_SV))\n",
    "v_dual_mu = ddro.addMVar((2,n_SV))"
   ]
  },
  {
   "cell_type": "code",
   "execution_count": 71,
   "id": "13f2b499-7862-4ce1-a5f8-a4894e960230",
   "metadata": {},
   "outputs": [],
   "source": [
    "ddro.setObjective(p_obj @ v_primal_x, GRB.MAXIMIZE)"
   ]
  },
  {
   "cell_type": "code",
   "execution_count": 72,
   "id": "8597d0cd-6e6b-40d5-b3f0-43464e4decc5",
   "metadata": {},
   "outputs": [
    {
     "data": {
      "text/plain": [
       "<MConstr ()>"
      ]
     },
     "execution_count": 72,
     "metadata": {},
     "output_type": "execute_result"
    }
   ],
   "source": [
    "ddro.addConstr(sum(np.dot(Q,p_a_SV[:,i]).T @ v_dual_la[:,i] for i in range(n_SV)) -\n",
    "               sum(np.dot(Q,p_a_SV[:,i]).T @ v_dual_mu[:,i] for i in range(n_SV)) + v_dual_eta*p_theta <= p_rhs)"
   ]
  },
  {
   "cell_type": "code",
   "execution_count": 73,
   "id": "00c05656-ba5d-4ae2-ae83-fd3305c73611",
   "metadata": {},
   "outputs": [],
   "source": [
    "for j in range(2):\n",
    "    for i in range(n_SV):\n",
    "        ddro.addConstr(v_dual_la[j,i] + v_dual_mu[j,i] == v_dual_eta*p_alpha_SV[i])"
   ]
  },
  {
   "cell_type": "code",
   "execution_count": 74,
   "id": "0a7d9242-1b60-4f27-81b6-229680128ee7",
   "metadata": {},
   "outputs": [
    {
     "data": {
      "text/plain": [
       "<MConstr (2,) *awaiting model update*>"
      ]
     },
     "execution_count": 74,
     "metadata": {},
     "output_type": "execute_result"
    }
   ],
   "source": [
    "ddro.addConstr( sum(Q @ v_dual_la[:,i] for i in range(n_SV)) -\n",
    "               sum(Q @ v_dual_mu[:,i] for i in range(n_SV)) - v_primal_x == 0)"
   ]
  },
  {
   "cell_type": "code",
   "execution_count": 75,
   "id": "3e3d3624-b31c-4e45-8ff1-bb955ddade2e",
   "metadata": {},
   "outputs": [
    {
     "name": "stdout",
     "output_type": "stream",
     "text": [
      "Gurobi Optimizer version 10.0.1 build v10.0.1rc0 (win64)\n",
      "\n",
      "CPU model: Intel(R) Core(TM) i7-7500U CPU @ 2.70GHz, instruction set [SSE2|AVX|AVX2]\n",
      "Thread count: 2 physical cores, 4 logical processors, using up to 4 threads\n",
      "\n",
      "Optimize a model with 29 rows, 55 columns and 237 nonzeros\n",
      "Model fingerprint: 0x2cdbcca8\n",
      "Coefficient statistics:\n",
      "  Matrix range     [3e-02, 3e+01]\n",
      "  Objective range  [2e+00, 3e+00]\n",
      "  Bounds range     [0e+00, 0e+00]\n",
      "  RHS range        [5e+01, 5e+01]\n",
      "Presolve time: 0.01s\n",
      "Presolved: 29 rows, 55 columns, 237 nonzeros\n",
      "\n",
      "Iteration    Objective       Primal Inf.    Dual Inf.      Time\n",
      "       0    5.0000000e+30   2.000000e+30   5.000000e+00      0s\n",
      "      13    7.5549649e+00   0.000000e+00   0.000000e+00      0s\n",
      "\n",
      "Solved in 13 iterations and 0.02 seconds (0.00 work units)\n",
      "Optimal objective  7.554964854e+00\n",
      "-----------------------------\n",
      "objective =  7.55\n",
      "x:  [0.   3.78]\n"
     ]
    }
   ],
   "source": [
    "ddro.optimize()\n",
    "status = ddro.status\n",
    "if status == GRB.OPTIMAL:\n",
    "    print(\"-----------------------------\")\n",
    "    print(\"objective = \",np.round(ddro.objVal,2))\n",
    "    print(\"x: \",np.round([v_primal_x[s].X for s in range(2)],2))"
   ]
  },
  {
   "cell_type": "code",
   "execution_count": null,
   "id": "eb6293cd-6b2c-4771-906a-0580f03df319",
   "metadata": {},
   "outputs": [],
   "source": []
  },
  {
   "cell_type": "markdown",
   "id": "a57dada7-c669-4d5d-b796-d31a4ef0d46b",
   "metadata": {},
   "source": [
    "# a priori model (BOX)\n",
    "\n",
    "objective =  5.56\n",
    "\n",
    "x:  [0.   2.78]"
   ]
  },
  {
   "cell_type": "markdown",
   "id": "76095970-0071-44f6-9bd6-fddd9bbd3b6b",
   "metadata": {},
   "source": [
    "# a posteriori model (DDRO)\n",
    "\n",
    "objective =  7.55\n",
    "\n",
    "x:  [0.   3.78]"
   ]
  },
  {
   "cell_type": "code",
   "execution_count": null,
   "id": "6e81761d-21a2-4285-8ca2-d8b53cf7765d",
   "metadata": {},
   "outputs": [],
   "source": []
  }
 ],
 "metadata": {
  "kernelspec": {
   "display_name": "Python 3 (ipykernel)",
   "language": "python",
   "name": "python3"
  },
  "language_info": {
   "codemirror_mode": {
    "name": "ipython",
    "version": 3
   },
   "file_extension": ".py",
   "mimetype": "text/x-python",
   "name": "python",
   "nbconvert_exporter": "python",
   "pygments_lexer": "ipython3",
   "version": "3.9.13"
  }
 },
 "nbformat": 4,
 "nbformat_minor": 5
}
