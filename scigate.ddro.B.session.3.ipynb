{
 "cells": [
  {
   "cell_type": "code",
   "execution_count": 1,
   "id": "e727cadf-de33-4f61-9043-52c404e5e10e",
   "metadata": {},
   "outputs": [],
   "source": [
    "import numpy as np"
   ]
  },
  {
   "cell_type": "code",
   "execution_count": 2,
   "id": "c3b7e926-b45f-4c2f-bc41-c5d9799682b3",
   "metadata": {},
   "outputs": [],
   "source": [
    "from gurobipy import Model,GRB"
   ]
  },
  {
   "cell_type": "code",
   "execution_count": 3,
   "id": "39d03b7c-3ce2-4641-8494-b8fc57170ca8",
   "metadata": {},
   "outputs": [
    {
     "name": "stdout",
     "output_type": "stream",
     "text": [
      "Set parameter Username\n",
      "Academic license - for non-commercial use only - expires 2024-02-08\n"
     ]
    }
   ],
   "source": [
    "scm = Model(\"location-allocation-problem\")"
   ]
  },
  {
   "cell_type": "code",
   "execution_count": 8,
   "id": "023a2f5e-720c-4f98-ac43-23927f0c6253",
   "metadata": {},
   "outputs": [],
   "source": [
    "p_cost_fixed = np.array([120,150,135])\n",
    "p_cost_transport = np.array([[10,20,15,16],\n",
    "                             [5,17,18,15],\n",
    "                             [13,15,18,15]])\n",
    "p_cap_max = np.array([540,510,600])\n",
    "p_demand = np.array([15,35,22,41])\n",
    "                             "
   ]
  },
  {
   "cell_type": "code",
   "execution_count": null,
   "id": "162657c3-a6df-4068-aa88-bc272fdb4d7d",
   "metadata": {},
   "outputs": [],
   "source": [
    "p_relation = [[0,1,1,0],\n",
    "             [1,0,1,1],\n",
    "             [0,0,0,1]]\n",
    "p_relation_2 = {0:[1,2],1:[2,3],2:[0,1]}"
   ]
  },
  {
   "cell_type": "code",
   "execution_count": null,
   "id": "1e9401e8-c7c3-47ae-8123-99daa8bd804a",
   "metadata": {},
   "outputs": [],
   "source": [
    "for i in range(n_prod):\n",
    "    for j in range(n_dist):\n",
    "        if p_relation[i,j] == 1:\n",
    "            scm.addConstr( sum( v_transport[i,jp] for jp in range(n_dist)) <= \n",
    "                          p_cap_max[i]*v_locate[i])"
   ]
  },
  {
   "cell_type": "code",
   "execution_count": null,
   "id": "c4719d55-6cfe-47a7-b1bd-1ca5aefb4b4a",
   "metadata": {},
   "outputs": [],
   "source": [
    "for p in p_relation_2:\n",
    "    "
   ]
  },
  {
   "cell_type": "code",
   "execution_count": 11,
   "id": "9da16511-95b1-4b93-8ca9-4d5754e21f75",
   "metadata": {},
   "outputs": [],
   "source": [
    "n_prod = p_cost_transport.shape[0]\n",
    "n_dist = p_cost_transport.shape[1]"
   ]
  },
  {
   "cell_type": "code",
   "execution_count": 12,
   "id": "8cfcbc7b-4e03-4721-9104-a842785a7356",
   "metadata": {},
   "outputs": [],
   "source": [
    "# x_ij >= 0\n",
    "v_transport = scm.addVars(n_prod,n_dist)\n",
    "# y_i {0,1}\n",
    "v_locate = scm.addVars(n_prod,vtype=GRB.BINARY)"
   ]
  },
  {
   "cell_type": "code",
   "execution_count": 13,
   "id": "5dfdd7d5-db65-4fd2-b334-9f42ebdd14dd",
   "metadata": {},
   "outputs": [],
   "source": [
    "for i in range(n_prod):\n",
    "    scm.addConstr( sum( v_transport[i,j] for j in range(n_dist)) <= \n",
    "                  p_cap_max[i]*v_locate[i] )"
   ]
  },
  {
   "cell_type": "code",
   "execution_count": 14,
   "id": "c30dcc7e-9ebd-423c-986f-8cf943af695f",
   "metadata": {},
   "outputs": [],
   "source": [
    "for j in range(n_dist):\n",
    "    scm.addConstr( sum(v_transport[i,j] for i in range(n_prod)) >=\n",
    "                  p_demand[j])"
   ]
  },
  {
   "cell_type": "code",
   "execution_count": 17,
   "id": "de58a7e0-299b-403f-8c24-987fd688d1ad",
   "metadata": {},
   "outputs": [],
   "source": [
    "scm.setObjective( sum(v_locate[i]*p_cost_fixed[i] for i in range(n_prod)) +\n",
    "                      sum(v_transport[i,j]*p_cost_transport[i,j] for i in range(n_prod)\n",
    "                          for j in range(n_dist)) , GRB.MINIMIZE)"
   ]
  },
  {
   "cell_type": "code",
   "execution_count": 18,
   "id": "37b2a1d1-6e1a-42b6-8e65-d5c45213b553",
   "metadata": {},
   "outputs": [
    {
     "name": "stdout",
     "output_type": "stream",
     "text": [
      "Gurobi Optimizer version 10.0.1 build v10.0.1rc0 (win64)\n",
      "\n",
      "CPU model: Intel(R) Core(TM) i7-7500U CPU @ 2.70GHz, instruction set [SSE2|AVX|AVX2]\n",
      "Thread count: 2 physical cores, 4 logical processors, using up to 4 threads\n",
      "\n",
      "Optimize a model with 7 rows, 15 columns and 27 nonzeros\n",
      "Model fingerprint: 0x389cfadb\n",
      "Variable types: 12 continuous, 3 integer (3 binary)\n",
      "Coefficient statistics:\n",
      "  Matrix range     [1e+00, 6e+02]\n",
      "  Objective range  [5e+00, 2e+02]\n",
      "  Bounds range     [1e+00, 1e+00]\n",
      "  RHS range        [2e+01, 4e+01]\n",
      "Presolve time: 0.03s\n",
      "Presolved: 7 rows, 15 columns, 27 nonzeros\n",
      "Variable types: 12 continuous, 3 integer (3 binary)\n",
      "Found heuristic solution: objective 1950.0000000\n",
      "\n",
      "Root relaxation: objective 1.679071e+03, 8 iterations, 0.00 seconds (0.00 work units)\n",
      "\n",
      "    Nodes    |    Current Node    |     Objective Bounds      |     Work\n",
      " Expl Unexpl |  Obj  Depth IntInf | Incumbent    BestBd   Gap | It/Node Time\n",
      "\n",
      "     0     0 1679.07080    0    3 1950.00000 1679.07080  13.9%     -    0s\n",
      "H    0     0                    1866.0000000 1679.07080  10.0%     -    0s\n",
      "     0     0 1786.72282    0    3 1866.00000 1786.72282  4.25%     -    0s\n",
      "     0     0 1823.47295    0    3 1866.00000 1823.47295  2.28%     -    0s\n",
      "*    0     0               0    1831.0000000 1831.00000  0.00%     -    0s\n",
      "\n",
      "Cutting planes:\n",
      "  Gomory: 3\n",
      "  Implied bound: 6\n",
      "  Flow cover: 1\n",
      "  Relax-and-lift: 1\n",
      "\n",
      "Explored 1 nodes (17 simplex iterations) in 0.20 seconds (0.00 work units)\n",
      "Thread count was 4 (of 4 available processors)\n",
      "\n",
      "Solution count 3: 1831 1866 1950 \n",
      "\n",
      "Optimal solution found (tolerance 1.00e-04)\n",
      "Best objective 1.831000000000e+03, best bound 1.831000000000e+03, gap 0.0000%\n"
     ]
    }
   ],
   "source": [
    "scm.optimize()"
   ]
  },
  {
   "cell_type": "code",
   "execution_count": 19,
   "id": "e9e28c04-51c7-4c6f-90f8-c3ab7338c46b",
   "metadata": {},
   "outputs": [
    {
     "data": {
      "text/plain": [
       "2"
      ]
     },
     "execution_count": 19,
     "metadata": {},
     "output_type": "execute_result"
    }
   ],
   "source": [
    "scm.status"
   ]
  },
  {
   "cell_type": "code",
   "execution_count": 20,
   "id": "3ed7d055-c731-4ab9-82b2-4955c32747ad",
   "metadata": {},
   "outputs": [
    {
     "data": {
      "text/plain": [
       "2"
      ]
     },
     "execution_count": 20,
     "metadata": {},
     "output_type": "execute_result"
    }
   ],
   "source": [
    "GRB.OPTIMAL"
   ]
  },
  {
   "cell_type": "code",
   "execution_count": 21,
   "id": "2b3a0e7e-a3a0-45f2-bc76-42882de2c15c",
   "metadata": {},
   "outputs": [
    {
     "name": "stdout",
     "output_type": "stream",
     "text": [
      " objective is =  1831.0\n",
      "{(0, 0): 0.0, (0, 1): 0.0, (0, 2): 0.0, (0, 3): 0.0, (1, 0): 15.0, (1, 1): 35.0, (1, 2): 22.0, (1, 3): 41.0, (2, 0): 0.0, (2, 1): 0.0, (2, 2): 0.0, (2, 3): 0.0}\n",
      "{0: 0.0, 1: 1.0, 2: 0.0}\n"
     ]
    }
   ],
   "source": [
    "if scm.status == GRB.OPTIMAL:\n",
    "    print(\" objective is = \", np.round(scm.objVal,2))\n",
    "    print(scm.getAttr('X',v_transport))\n",
    "    print(scm.getAttr('X',v_locate))\n",
    "else:\n",
    "    print(\" moodel cannot be solved! please check!\")"
   ]
  },
  {
   "cell_type": "code",
   "execution_count": 24,
   "id": "83bc40aa-6ead-4965-bc27-db37cde20388",
   "metadata": {},
   "outputs": [],
   "source": [
    "xx = {s: v_transport[s].X for s in np.ndindex(n_prod,n_dist)}"
   ]
  },
  {
   "cell_type": "code",
   "execution_count": 27,
   "id": "57567038-d907-44cf-8ffa-c32e03d3dc18",
   "metadata": {},
   "outputs": [
    {
     "data": {
      "text/plain": [
       "0  0     0.0\n",
       "   1     0.0\n",
       "   2     0.0\n",
       "   3     0.0\n",
       "1  0    15.0\n",
       "   1    35.0\n",
       "   2    22.0\n",
       "   3    41.0\n",
       "2  0     0.0\n",
       "   1     0.0\n",
       "   2     0.0\n",
       "   3     0.0\n",
       "dtype: float64"
      ]
     },
     "execution_count": 27,
     "metadata": {},
     "output_type": "execute_result"
    }
   ],
   "source": [
    "import pandas as pd\n",
    "df = pd.Series(xx)\n",
    "df"
   ]
  },
  {
   "cell_type": "markdown",
   "id": "a60e0aa4-73cb-4a21-8896-fcab4225f7a4",
   "metadata": {},
   "source": [
    "# Matrix Programming"
   ]
  },
  {
   "cell_type": "code",
   "execution_count": 28,
   "id": "403abfbd-0c0b-43e4-b8ec-f386affa9f59",
   "metadata": {},
   "outputs": [],
   "source": [
    "from gurobipy import Model,GRB"
   ]
  },
  {
   "cell_type": "code",
   "execution_count": 29,
   "id": "334fe36a-d7e0-44a6-b3c2-178ac0d87a19",
   "metadata": {},
   "outputs": [
    {
     "name": "stdout",
     "output_type": "stream",
     "text": [
      "Gurobi Optimizer version 10.0.1 build v10.0.1rc0 (win64)\n",
      "\n",
      "CPU model: Intel(R) Core(TM) i7-7500U CPU @ 2.70GHz, instruction set [SSE2|AVX|AVX2]\n",
      "Thread count: 2 physical cores, 4 logical processors, using up to 4 threads\n",
      "\n",
      "Optimize a model with 2 rows, 3 columns and 4 nonzeros\n",
      "Model fingerprint: 0x786d793e\n",
      "Model has 3 quadratic objective terms\n",
      "Coefficient statistics:\n",
      "  Matrix range     [1e+00, 3e+00]\n",
      "  Objective range  [0e+00, 0e+00]\n",
      "  QObjective range [2e+00, 6e+00]\n",
      "  Bounds range     [1e+00, 1e+00]\n",
      "  RHS range        [1e+00, 4e+00]\n",
      "Presolve removed 1 rows and 0 columns\n",
      "Presolve time: 0.03s\n",
      "Presolved: 1 rows, 3 columns, 3 nonzeros\n",
      "Presolved model has 3 quadratic objective terms\n",
      "Ordering time: 0.00s\n",
      "\n",
      "Barrier statistics:\n",
      " AA' NZ     : 0.000e+00\n",
      " Factor NZ  : 1.000e+00\n",
      " Factor Ops : 1.000e+00 (less than 1 second per iteration)\n",
      " Threads    : 1\n",
      "\n",
      "                  Objective                Residual\n",
      "Iter       Primal          Dual         Primal    Dual     Compl     Time\n",
      "   0   9.40303449e+05 -9.46797426e+05  1.00e+03 1.00e+03  1.00e+06     0s\n",
      "   1   1.63608282e+04 -2.29832150e+04  1.47e+02 7.40e+01  7.55e+04     0s\n",
      "   2   4.54731649e+00 -6.73264176e+03  0.00e+00 7.40e-05  9.63e+02     0s\n",
      "   3   4.54409199e+00 -9.81136802e+00  0.00e+00 8.37e-08  2.05e+00     0s\n",
      "   4   3.13052806e+00  9.48133510e-01  0.00e+00 3.77e-11  3.12e-01     0s\n",
      "   5   2.67289945e+00  2.59154123e+00  0.00e+00 1.11e-16  1.16e-02     0s\n",
      "   6   2.66675851e+00  2.66448522e+00  0.00e+00 0.00e+00  3.25e-04     0s\n",
      "   7   2.66666675e+00  2.66666250e+00  0.00e+00 2.22e-16  6.06e-07     0s\n",
      "   8   2.66666667e+00  2.66666666e+00  0.00e+00 0.00e+00  6.06e-10     0s\n",
      "\n",
      "Barrier solved model in 8 iterations and 0.10 seconds (0.00 work units)\n",
      "Optimal objective 2.66666667e+00\n",
      "\n"
     ]
    }
   ],
   "source": [
    "# classic\n",
    "m = Model()\n",
    "x1 = m.addVar(ub=1)\n",
    "x2 = m.addVar(ub=1)\n",
    "x3 = m.addVar(ub=1)\n",
    "m.setObjective(x1*x1 + 2*x2*x2 + 3*x3*x3)\n",
    "m.addConstr(x1 + 2*x2 + 3*x3 >= 4)\n",
    "m.addConstr(x1 + x1 >= 1)\n",
    "m.optimize()"
   ]
  },
  {
   "cell_type": "code",
   "execution_count": 31,
   "id": "cfeb31fe-d260-4edf-82a7-f44df905f241",
   "metadata": {},
   "outputs": [
    {
     "name": "stdout",
     "output_type": "stream",
     "text": [
      "Gurobi Optimizer version 10.0.1 build v10.0.1rc0 (win64)\n",
      "\n",
      "CPU model: Intel(R) Core(TM) i7-7500U CPU @ 2.70GHz, instruction set [SSE2|AVX|AVX2]\n",
      "Thread count: 2 physical cores, 4 logical processors, using up to 4 threads\n",
      "\n",
      "Optimize a model with 2 rows, 3 columns and 5 nonzeros\n",
      "Model fingerprint: 0xfe3c913b\n",
      "Model has 3 quadratic objective terms\n",
      "Coefficient statistics:\n",
      "  Matrix range     [1e+00, 3e+00]\n",
      "  Objective range  [0e+00, 0e+00]\n",
      "  QObjective range [2e+00, 6e+00]\n",
      "  Bounds range     [1e+00, 1e+00]\n",
      "  RHS range        [1e+00, 4e+00]\n",
      "Presolve time: 0.05s\n",
      "Presolved: 2 rows, 3 columns, 5 nonzeros\n",
      "Presolved model has 3 quadratic objective terms\n",
      "Ordering time: 0.00s\n",
      "\n",
      "Barrier statistics:\n",
      " AA' NZ     : 1.000e+00\n",
      " Factor NZ  : 3.000e+00\n",
      " Factor Ops : 5.000e+00 (less than 1 second per iteration)\n",
      " Threads    : 1\n",
      "\n",
      "                  Objective                Residual\n",
      "Iter       Primal          Dual         Primal    Dual     Compl     Time\n",
      "   0   9.40049990e+05 -9.48045016e+05  9.99e+02 1.00e+03  1.00e+06     0s\n",
      "   1   5.22820327e+04 -6.00373641e+04  2.61e+02 1.31e+02  1.34e+05     0s\n",
      "   2   3.55304827e+00 -8.39849176e+03  0.00e+00 2.07e-01  1.26e+03     0s\n",
      "   3   2.99968754e+00 -2.43406554e+02  0.00e+00 5.30e-04  3.08e+01     0s\n",
      "   4   2.98662982e+00  2.00421998e+00  0.00e+00 1.07e-06  1.23e-01     0s\n",
      "   5   2.67663246e+00  2.64289910e+00  0.00e+00 1.22e-09  4.22e-03     0s\n",
      "   6   2.66667624e+00  2.66658515e+00  0.00e+00 1.11e-15  1.14e-05     0s\n",
      "   7   2.66666668e+00  2.66666659e+00  0.00e+00 1.11e-16  1.14e-08     0s\n",
      "   8   2.66666667e+00  2.66666667e+00  0.00e+00 2.22e-16  1.14e-11     0s\n",
      "\n",
      "Barrier solved model in 8 iterations and 0.13 seconds (0.00 work units)\n",
      "Optimal objective 2.66666667e+00\n",
      "\n"
     ]
    }
   ],
   "source": [
    "# matrix prog\n",
    "import numpy as np\n",
    "m = Model()\n",
    "Q = np.diag([1,2,3])\n",
    "A = np.array([[1,2,3],\n",
    "              [1,1,0]])\n",
    "b = np.array([4,1])\n",
    "x = m.addMVar(3,ub=1)\n",
    "m.setObjective(x @ Q @ x)\n",
    "m.addConstr(A @ x >= b)\n",
    "m.optimize()"
   ]
  },
  {
   "cell_type": "code",
   "execution_count": 30,
   "id": "ad292d8e-8813-4c07-9576-2f38f6dcd867",
   "metadata": {},
   "outputs": [
    {
     "data": {
      "text/plain": [
       "array([[1, 0, 0],\n",
       "       [0, 2, 0],\n",
       "       [0, 0, 3]])"
      ]
     },
     "execution_count": 30,
     "metadata": {},
     "output_type": "execute_result"
    }
   ],
   "source": [
    "np.diag([1,2,3])"
   ]
  },
  {
   "cell_type": "code",
   "execution_count": null,
   "id": "8bd91d58-46c4-4304-913f-16767b2f1745",
   "metadata": {},
   "outputs": [],
   "source": []
  }
 ],
 "metadata": {
  "kernelspec": {
   "display_name": "Python 3 (ipykernel)",
   "language": "python",
   "name": "python3"
  },
  "language_info": {
   "codemirror_mode": {
    "name": "ipython",
    "version": 3
   },
   "file_extension": ".py",
   "mimetype": "text/x-python",
   "name": "python",
   "nbconvert_exporter": "python",
   "pygments_lexer": "ipython3",
   "version": "3.9.13"
  }
 },
 "nbformat": 4,
 "nbformat_minor": 5
}
